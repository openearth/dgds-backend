{
 "cells": [
  {
   "cell_type": "code",
   "execution_count": 1,
   "id": "26efe5a1",
   "metadata": {},
   "outputs": [],
   "source": [
    "import geojson\n",
    "import netCDF4 as nc\n",
    "import os"
   ]
  },
  {
   "cell_type": "code",
   "execution_count": 2,
   "id": "089ae4b0",
   "metadata": {},
   "outputs": [],
   "source": [
    "folder = r'p:\\11205479-coclico\\data\\AUTH_files\\netcdf_files\\06.Coast and benefits of coastal adaptation'\n",
    "dataset = 'dZprotectionMean.nc'"
   ]
  },
  {
   "cell_type": "code",
   "execution_count": 3,
   "id": "9362988c",
   "metadata": {},
   "outputs": [
    {
     "data": {
      "text/plain": [
       "<class 'netCDF4._netCDF4.Dataset'>\n",
       "root group (NETCDF4 data model, file format HDF5):\n",
       "    title: Expected benefit to cost ratios of raising coastal protection per NUTS2 region\n",
       "    description: Benefit to Cost ratio (after discounting), costs and benefits of additional protection, both not discounted (as presented in the paper), additional coastal protection height which optimises the NPV of the investment.Scenarios: Sustainability: RCP4.5 combined with SSP Sustainability, Fossil Fuel Development: RCP8.5 combined with SSP Fossil Fuel Development.\n",
       "    source: The data comes from: Vousdoukas, M., Mentaschi, L., Hinkel, J., Ward, P., Mongelli, I., Ciscar Martinez, J. and Feyen, L., Economic motivation for raising coastal flood defenses in Europe, NATURE COMMUNICATIONS, ISSN 2041-1723 (online), 11, 2020, p. 2119, JRC119139. DOI 10.1038/s41467-020-15665-3\n",
       "    dimensions(sizes): row(124), columns(4)\n",
       "    variables(dimensions): float64 lat(row), float64 lon(row), float64 sustain(row), float64 ffd(row)\n",
       "    groups: "
      ]
     },
     "execution_count": 3,
     "metadata": {},
     "output_type": "execute_result"
    }
   ],
   "source": [
    "ds = nc.Dataset(os.path.join(folder, dataset))\n",
    "ds"
   ]
  },
  {
   "cell_type": "code",
   "execution_count": null,
   "id": "329ecc7f",
   "metadata": {},
   "outputs": [],
   "source": []
  }
 ],
 "metadata": {
  "kernelspec": {
   "display_name": "Python 3 (ipykernel)",
   "language": "python",
   "name": "python3"
  },
  "language_info": {
   "codemirror_mode": {
    "name": "ipython",
    "version": 3
   },
   "file_extension": ".py",
   "mimetype": "text/x-python",
   "name": "python",
   "nbconvert_exporter": "python",
   "pygments_lexer": "ipython3",
   "version": "3.10.0"
  }
 },
 "nbformat": 4,
 "nbformat_minor": 5
}
