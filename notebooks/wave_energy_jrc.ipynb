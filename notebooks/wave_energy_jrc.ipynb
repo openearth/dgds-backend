{
 "cells": [
  {
   "cell_type": "code",
   "execution_count": 1,
   "id": "a7d4a314",
   "metadata": {},
   "outputs": [],
   "source": [
    "import geojson\n",
    "import netCDF4 as nc\n",
    "import os"
   ]
  },
  {
   "cell_type": "code",
   "execution_count": 2,
   "id": "8924f304",
   "metadata": {},
   "outputs": [],
   "source": [
    "folder = r'p:\\11205479-coclico\\data\\02_wave_energy_jrc'\n",
    "dataset = 'CoastAlRisk_Global_WEF_RCP85.nc'"
   ]
  },
  {
   "cell_type": "code",
   "execution_count": 3,
   "id": "e85f2be7",
   "metadata": {},
   "outputs": [
    {
     "data": {
      "text/plain": [
       "<class 'netCDF4._netCDF4.Dataset'>\n",
       "root group (NETCDF3_64BIT_OFFSET data model, file format NETCDF3):\n",
       "    title: Global Wave Energy Flux\n",
       "    Institution: Joint European Research Center, Directorate for Space, Security and Migration, Via Enrico Fermi 2749, I-21027-Ispra\n",
       "    Project Name: Prototype of a first Global Integrated Coastal Impact-based Flood Alert and Risk Assessment Tool\n",
       "    Project Acronym: CoastAlRisk\n",
       "    reference: Mentaschi L., Vousdoukas M., Voukouvalas E., Dosio A., Feyen L. (2017), Global changes of extreme coastal wave energy fluxes triggered by intensified teleconnection patterns, Geophys. Res. Lett., doi:10.1002/2016GL072488\n",
       "    email: lorenzo.mentaschi@ec.europa.eu\n",
       "    version: 1.0\n",
       "    terms_for_use: European Union, 1995-2015.\n",
       "Reuse is authorised, provided the source is acknowledged. The reuse policy of the European Commission is implemented by a Decision of 12 December 2011.\n",
       "    disclaimer: Unless the following would not be permitted or valid under applicable law, the following applies to the data/information provided by the JRC:\n",
       "\n",
       "1. The JRC data are provided \"as is\" and \"as available\" without warranty of any kind, either express or implied, including, but not limited to, any implied warranty against infringement of third parties' property rights, or merchantability, integration, absence of latent or other defects, satisfactory quality and fitness for a particular purpose. The JRC data do not constitute professional or legal advice (if you need specific advice, you should always consult a suitably qualified professional).\n",
       "2. The JRC has no obligation to provide technical support or remedies for the data. The JRC does not represent or warrant that the data will be error free or uninterrupted, or that all non-conformities can or will be corrected, or that any data are accurate or complete, or that they are of a satisfactory technical or scientific quality.\n",
       "3. The JRC or as the case may be the European Commission shall not be held liable for any direct or indirect, incidental, consequential or other damages, including but not limited to the loss of data, loss of profits, or any other financial loss arising from the use of the JRC data, or inability to use them, even if the JRC is notified of the possibility of such damages.\n",
       "    dimensions(sizes): npoints(4828), nrp(8), nsdec(11)\n",
       "    variables(dimensions): float64 longitude(npoints), float64 latitude(npoints), float64 wef(npoints, nrp, nsdec), float32 rp(nrp), float32 decades(nsdec)\n",
       "    groups: "
      ]
     },
     "execution_count": 3,
     "metadata": {},
     "output_type": "execute_result"
    }
   ],
   "source": [
    "ds = nc.Dataset(os.path.join(folder, dataset))\n",
    "ds"
   ]
  },
  {
   "cell_type": "code",
   "execution_count": 5,
   "id": "d687945f",
   "metadata": {},
   "outputs": [
    {
     "name": "stdout",
     "output_type": "stream",
     "text": [
      "5.0 3139.9778756615874 1534256.2583373692\n",
      "10.0 3612.9746305891367 1714112.8357518704\n",
      "20.0 4133.149578280548 1892305.1349101833\n",
      "50.0 4910.106039673289 2125910.4295170084\n",
      "100.0 5581.075898547791 3210621.5558571047\n",
      "200.0 6340.243734519948 6060545.65536267\n",
      "500.0 7510.739017679015 14210244.927582568\n",
      "1000.0 8551.822749793695 27270618.103038672\n"
     ]
    }
   ],
   "source": [
    "# get minima and maxima for the colormap boundaries\n",
    "rp = ds['rp'][:].filled()\n",
    "\n",
    "for idx, i in enumerate(rp):\n",
    "    print(i, min(ds['wef'][:,idx,:].filled().flatten()), max(ds['wef'][:,idx,:].filled().flatten()))"
   ]
  },
  {
   "cell_type": "code",
   "execution_count": null,
   "id": "72819b07",
   "metadata": {},
   "outputs": [],
   "source": []
  }
 ],
 "metadata": {
  "kernelspec": {
   "display_name": "Python 3 (ipykernel)",
   "language": "python",
   "name": "python3"
  },
  "language_info": {
   "codemirror_mode": {
    "name": "ipython",
    "version": 3
   },
   "file_extension": ".py",
   "mimetype": "text/x-python",
   "name": "python",
   "nbconvert_exporter": "python",
   "pygments_lexer": "ipython3",
   "version": "3.8.12"
  }
 },
 "nbformat": 4,
 "nbformat_minor": 5
}
