{
 "cells": [
  {
   "cell_type": "markdown",
   "id": "2ad6e53d",
   "metadata": {},
   "source": [
    "# 01 - Storm Surge Dataset JRC"
   ]
  },
  {
   "cell_type": "markdown",
   "id": "ed760046",
   "metadata": {},
   "source": [
    "This script performs the following tasks:\n",
    "1. [Auth] writes data to Zarr files (cloud-native file format) (AUTh)\n",
    "3. [Deltares] checks and creates a geoJSON from Zarr data (required for the Front-End)\n",
    "2. [Deltares] uploads the Zarr to a Google Cloud Storage (GCS) bucket \n",
    "4. [Deltares] uploads the geoJSON to Mapbox \n",
    "5. [Deltares] update the STAC"
   ]
  },
  {
   "cell_type": "markdown",
   "id": "c7635fac",
   "metadata": {},
   "source": [
    "TODO: \n",
    "- make consistent with cf conventions (AUTh?)\n",
    "- bold names in Zarr due to a dimension index (maybe this should be changed..)\n",
    "- come up with checks for Zarr file before continueing to create a geoJSON"
   ]
  },
  {
   "cell_type": "code",
   "execution_count": 1,
   "id": "81edf748",
   "metadata": {},
   "outputs": [
    {
     "name": "stderr",
     "output_type": "stream",
     "text": [
      "C:\\Users\\kras\\Anaconda3\\envs\\bathymetry_env\\lib\\site-packages\\xarray\\backends\\cfgrib_.py:27: UserWarning: Failed to load cfgrib - most likely there is a problem accessing the ecCodes library. Try `import cfgrib` to get the full error message\n",
      "  warnings.warn(\n"
     ]
    },
    {
     "data": {
      "application/javascript": [
       "\n",
       "            setTimeout(function() {\n",
       "                var nbb_cell_id = 1;\n",
       "                var nbb_unformatted_code = \"# Optional; code formatter, installed as jupyter lab extension\\n#%load_ext lab_black\\n# Optional; code formatter, installed as jupyter notebook extension\\n%load_ext nb_black\\n\\n# imports\\nimport geojson\\nimport netCDF4 as nc\\nimport os\\nimport pathlib\\nimport sys\\nimport platform\\nimport xarray as xr\\nimport pandas as pd\\nimport zarr\\nimport subprocess\\nimport warnings\\n\\nwarnings.filterwarnings(\\\"ignore\\\")\\n\\n# make root directories importable by appending root to path\\ncwd = pathlib.Path().resolve()\\nsys.path.append(os.path.dirname(cwd))\\n\\n# OS independent path configurations\\nif platform.system() == \\\"Windows\\\":\\n    root = pathlib.Path(\\\"P:/\\\")\\nelse:  # linux or other\\n    root = pathlib.Path(\\\"/p/\\\")\\n# root = pathlib.Path().home().root\\ncoclico_data_dir = pathlib.Path(root, \\\"11205479-coclico\\\", \\\"data\\\")\";\n",
       "                var nbb_formatted_code = \"# Optional; code formatter, installed as jupyter lab extension\\n#%load_ext lab_black\\n# Optional; code formatter, installed as jupyter notebook extension\\n%load_ext nb_black\\n\\n# imports\\nimport geojson\\nimport netCDF4 as nc\\nimport os\\nimport pathlib\\nimport sys\\nimport platform\\nimport xarray as xr\\nimport pandas as pd\\nimport zarr\\nimport subprocess\\nimport warnings\\n\\nwarnings.filterwarnings(\\\"ignore\\\")\\n\\n# make root directories importable by appending root to path\\ncwd = pathlib.Path().resolve()\\nsys.path.append(os.path.dirname(cwd))\\n\\n# OS independent path configurations\\nif platform.system() == \\\"Windows\\\":\\n    root = pathlib.Path(\\\"P:/\\\")\\nelse:  # linux or other\\n    root = pathlib.Path(\\\"/p/\\\")\\n# root = pathlib.Path().home().root\\ncoclico_data_dir = pathlib.Path(root, \\\"11205479-coclico\\\", \\\"data\\\")\";\n",
       "                var nbb_cells = Jupyter.notebook.get_cells();\n",
       "                for (var i = 0; i < nbb_cells.length; ++i) {\n",
       "                    if (nbb_cells[i].input_prompt_number == nbb_cell_id) {\n",
       "                        if (nbb_cells[i].get_text() == nbb_unformatted_code) {\n",
       "                             nbb_cells[i].set_text(nbb_formatted_code);\n",
       "                        }\n",
       "                        break;\n",
       "                    }\n",
       "                }\n",
       "            }, 500);\n",
       "            "
      ],
      "text/plain": [
       "<IPython.core.display.Javascript object>"
      ]
     },
     "metadata": {},
     "output_type": "display_data"
    }
   ],
   "source": [
    "# Optional; code formatter, installed as jupyter lab extension\n",
    "#%load_ext lab_black\n",
    "# Optional; code formatter, installed as jupyter notebook extension\n",
    "%load_ext nb_black\n",
    "\n",
    "# imports\n",
    "import geojson\n",
    "import netCDF4 as nc\n",
    "import os\n",
    "import pathlib\n",
    "import sys\n",
    "import platform\n",
    "import xarray as xr\n",
    "import pandas as pd\n",
    "import zarr\n",
    "import subprocess\n",
    "import warnings\n",
    "from google.cloud import storage\n",
    "\n",
    "warnings.filterwarnings(\"ignore\")\n",
    "\n",
    "# make root directories importable by appending root to path\n",
    "cwd = pathlib.Path().resolve()\n",
    "sys.path.append(os.path.dirname(cwd))\n",
    "\n",
    "# OS independent path configurations\n",
    "if platform.system() == \"Windows\":\n",
    "    root = pathlib.Path(\"P:/\")\n",
    "else:  # linux or other\n",
    "    root = pathlib.Path(\"/p/\")\n",
    "# root = pathlib.Path().home().root\n",
    "coclico_data_dir = pathlib.Path(root, \"11205479-coclico\", \"data\")"
   ]
  },
  {
   "cell_type": "code",
   "execution_count": 96,
   "id": "088ccf9c",
   "metadata": {},
   "outputs": [
    {
     "data": {
      "application/javascript": [
       "\n",
       "            setTimeout(function() {\n",
       "                var nbb_cell_id = 96;\n",
       "                var nbb_unformatted_code = \"# paths to the dataset, manual input\\neessl_dir = coclico_data_dir.joinpath(\\\"01_storm_surge_jrc\\\")\\neessl_historical_path = eessl_dir.joinpath(\\\"CoastAlRisk_Europe_EESSL_Historical.nc\\\")\\neessl_rcp45_path = eessl_dir.joinpath(\\\"CoastAlRisk_Europe_EESSL_RCP45.nc\\\")\\neessl_rcp85_path = eessl_dir.joinpath(\\\"CoastAlRisk_Europe_EESSL_RCP85.nc\\\")\\neessl_out_file = \\\"CoastAlRisk_Europe_EESSL\\\"\\n\\n# GCS and mapbox private access keys\\nGCS_token = coclico_data_dir.joinpath(\\n    \\\"google_credentials.json\\\"\\n)  # path name (including json file name)\\nmapbox_token = r\\\"sk.eyJ1IjoiZ2xvYmFsLWRhdGEtdmlld2VyIiwiYSI6ImNsMWx1azIyejA5cmwzanBueTNwdDB0djQifQ.hkbA5TGIiOcve4mZpi44Uw\\\"  # mabox key\";\n",
       "                var nbb_formatted_code = \"# paths to the dataset, manual input\\neessl_dir = coclico_data_dir.joinpath(\\\"01_storm_surge_jrc\\\")\\neessl_historical_path = eessl_dir.joinpath(\\\"CoastAlRisk_Europe_EESSL_Historical.nc\\\")\\neessl_rcp45_path = eessl_dir.joinpath(\\\"CoastAlRisk_Europe_EESSL_RCP45.nc\\\")\\neessl_rcp85_path = eessl_dir.joinpath(\\\"CoastAlRisk_Europe_EESSL_RCP85.nc\\\")\\neessl_out_file = \\\"CoastAlRisk_Europe_EESSL\\\"\\n\\n# GCS and mapbox private access keys\\nGCS_token = coclico_data_dir.joinpath(\\n    \\\"google_credentials.json\\\"\\n)  # path name (including json file name)\\nmapbox_token = r\\\"sk.eyJ1IjoiZ2xvYmFsLWRhdGEtdmlld2VyIiwiYSI6ImNsMWx1azIyejA5cmwzanBueTNwdDB0djQifQ.hkbA5TGIiOcve4mZpi44Uw\\\"  # mabox key\";\n",
       "                var nbb_cells = Jupyter.notebook.get_cells();\n",
       "                for (var i = 0; i < nbb_cells.length; ++i) {\n",
       "                    if (nbb_cells[i].input_prompt_number == nbb_cell_id) {\n",
       "                        if (nbb_cells[i].get_text() == nbb_unformatted_code) {\n",
       "                             nbb_cells[i].set_text(nbb_formatted_code);\n",
       "                        }\n",
       "                        break;\n",
       "                    }\n",
       "                }\n",
       "            }, 500);\n",
       "            "
      ],
      "text/plain": [
       "<IPython.core.display.Javascript object>"
      ]
     },
     "metadata": {},
     "output_type": "display_data"
    }
   ],
   "source": [
    "# paths to the dataset, manual input\n",
    "eessl_dir = coclico_data_dir.joinpath(\"01_storm_surge_jrc\")\n",
    "eessl_historical_path = eessl_dir.joinpath(\"CoastAlRisk_Europe_EESSL_Historical.nc\")\n",
    "eessl_rcp45_path = eessl_dir.joinpath(\"CoastAlRisk_Europe_EESSL_RCP45.nc\")\n",
    "eessl_rcp85_path = eessl_dir.joinpath(\"CoastAlRisk_Europe_EESSL_RCP85.nc\")\n",
    "eessl_out_file = \"CoastAlRisk_Europe_EESSL\"\n",
    "\n",
    "# GCS and mapbox private access keys\n",
    "GCS_token = coclico_data_dir.joinpath(\n",
    "    \"google_credentials.json\"\n",
    ")  # path name (including json file name)\n",
    "mapbox_token = r\"sk.eyJ1IjoiZ2xvYmFsLWRhdGEtdmlld2VyIiwiYSI6ImNsMWx1azIyejA5cmwzanBueTNwdDB0djQifQ.hkbA5TGIiOcve4mZpi44Uw\"  # mabox key"
   ]
  },
  {
   "cell_type": "markdown",
   "id": "debcd82d",
   "metadata": {},
   "source": [
    "# 1. write data to Zarr files"
   ]
  },
  {
   "cell_type": "code",
   "execution_count": 3,
   "id": "ee391816",
   "metadata": {},
   "outputs": [
    {
     "data": {
      "application/javascript": [
       "\n",
       "            setTimeout(function() {\n",
       "                var nbb_cell_id = 3;\n",
       "                var nbb_unformatted_code = \"# open datasets\\neessl_historical = xr.open_dataset(eessl_historical_path)\\neessl_45rcp = xr.open_dataset(eessl_rcp45_path)\\neessl_85rcp = xr.open_dataset(eessl_rcp85_path)\\n\\n# check original dataset\\n# eessl_historical\";\n",
       "                var nbb_formatted_code = \"# open datasets\\neessl_historical = xr.open_dataset(eessl_historical_path)\\neessl_45rcp = xr.open_dataset(eessl_rcp45_path)\\neessl_85rcp = xr.open_dataset(eessl_rcp85_path)\\n\\n# check original dataset\\n# eessl_historical\";\n",
       "                var nbb_cells = Jupyter.notebook.get_cells();\n",
       "                for (var i = 0; i < nbb_cells.length; ++i) {\n",
       "                    if (nbb_cells[i].input_prompt_number == nbb_cell_id) {\n",
       "                        if (nbb_cells[i].get_text() == nbb_unformatted_code) {\n",
       "                             nbb_cells[i].set_text(nbb_formatted_code);\n",
       "                        }\n",
       "                        break;\n",
       "                    }\n",
       "                }\n",
       "            }, 500);\n",
       "            "
      ],
      "text/plain": [
       "<IPython.core.display.Javascript object>"
      ]
     },
     "metadata": {},
     "output_type": "display_data"
    }
   ],
   "source": [
    "# open datasets\n",
    "eessl_historical = xr.open_dataset(eessl_historical_path)\n",
    "eessl_45rcp = xr.open_dataset(eessl_rcp45_path)\n",
    "eessl_85rcp = xr.open_dataset(eessl_rcp85_path)\n",
    "\n",
    "# check original dataset\n",
    "# eessl_historical"
   ]
  },
  {
   "cell_type": "code",
   "execution_count": 4,
   "id": "34cfec30",
   "metadata": {},
   "outputs": [
    {
     "data": {
      "application/javascript": [
       "\n",
       "            setTimeout(function() {\n",
       "                var nbb_cell_id = 4;\n",
       "                var nbb_unformatted_code = \"# rename variables, if necessary\\n\\n# set some data variables to coordinates to avoid duplication of dimensions in later stage\\neessl_historical = eessl_historical.set_coords([\\\"longitude\\\", \\\"latitude\\\", \\\"RP\\\"])\\neessl_45rcp = eessl_45rcp.set_coords([\\\"longitude\\\", \\\"latitude\\\", \\\"RP\\\"])\\neessl_85rcp = eessl_85rcp.set_coords([\\\"longitude\\\", \\\"latitude\\\", \\\"RP\\\"])\";\n",
       "                var nbb_formatted_code = \"# rename variables, if necessary\\n\\n# set some data variables to coordinates to avoid duplication of dimensions in later stage\\neessl_historical = eessl_historical.set_coords([\\\"longitude\\\", \\\"latitude\\\", \\\"RP\\\"])\\neessl_45rcp = eessl_45rcp.set_coords([\\\"longitude\\\", \\\"latitude\\\", \\\"RP\\\"])\\neessl_85rcp = eessl_85rcp.set_coords([\\\"longitude\\\", \\\"latitude\\\", \\\"RP\\\"])\";\n",
       "                var nbb_cells = Jupyter.notebook.get_cells();\n",
       "                for (var i = 0; i < nbb_cells.length; ++i) {\n",
       "                    if (nbb_cells[i].input_prompt_number == nbb_cell_id) {\n",
       "                        if (nbb_cells[i].get_text() == nbb_unformatted_code) {\n",
       "                             nbb_cells[i].set_text(nbb_formatted_code);\n",
       "                        }\n",
       "                        break;\n",
       "                    }\n",
       "                }\n",
       "            }, 500);\n",
       "            "
      ],
      "text/plain": [
       "<IPython.core.display.Javascript object>"
      ]
     },
     "metadata": {},
     "output_type": "display_data"
    }
   ],
   "source": [
    "# rename variables, if necessary\n",
    "\n",
    "# set some data variables to coordinates to avoid duplication of dimensions in later stage\n",
    "eessl_historical = eessl_historical.set_coords([\"longitude\", \"latitude\", \"RP\"])\n",
    "eessl_45rcp = eessl_45rcp.set_coords([\"longitude\", \"latitude\", \"RP\"])\n",
    "eessl_85rcp = eessl_85rcp.set_coords([\"longitude\", \"latitude\", \"RP\"])"
   ]
  },
  {
   "cell_type": "code",
   "execution_count": 5,
   "id": "5666e08b",
   "metadata": {},
   "outputs": [
    {
     "data": {
      "application/javascript": [
       "\n",
       "            setTimeout(function() {\n",
       "                var nbb_cell_id = 5;\n",
       "                var nbb_unformatted_code = \"# concat datasets along new dimension with index values and name derived from pandas index object, if necessary\\neessl = xr.concat(\\n    [eessl_historical, eessl_45rcp, eessl_85rcp],\\n    pd.Index([\\\"historical\\\", \\\"rcp45\\\", \\\"rcp85\\\"], name=\\\"scenario\\\"),\\n)\";\n",
       "                var nbb_formatted_code = \"# concat datasets along new dimension with index values and name derived from pandas index object, if necessary\\neessl = xr.concat(\\n    [eessl_historical, eessl_45rcp, eessl_85rcp],\\n    pd.Index([\\\"historical\\\", \\\"rcp45\\\", \\\"rcp85\\\"], name=\\\"scenario\\\"),\\n)\";\n",
       "                var nbb_cells = Jupyter.notebook.get_cells();\n",
       "                for (var i = 0; i < nbb_cells.length; ++i) {\n",
       "                    if (nbb_cells[i].input_prompt_number == nbb_cell_id) {\n",
       "                        if (nbb_cells[i].get_text() == nbb_unformatted_code) {\n",
       "                             nbb_cells[i].set_text(nbb_formatted_code);\n",
       "                        }\n",
       "                        break;\n",
       "                    }\n",
       "                }\n",
       "            }, 500);\n",
       "            "
      ],
      "text/plain": [
       "<IPython.core.display.Javascript object>"
      ]
     },
     "metadata": {},
     "output_type": "display_data"
    }
   ],
   "source": [
    "# concat datasets along new dimension with index values and name derived from pandas index object, if necessary\n",
    "eessl = xr.concat(\n",
    "    [eessl_historical, eessl_45rcp, eessl_85rcp],\n",
    "    pd.Index([\"historical\", \"rcp45\", \"rcp85\"], name=\"scenario\"),\n",
    ")"
   ]
  },
  {
   "cell_type": "code",
   "execution_count": 6,
   "id": "ee633393",
   "metadata": {},
   "outputs": [
    {
     "data": {
      "application/javascript": [
       "\n",
       "            setTimeout(function() {\n",
       "                var nbb_cell_id = 6;\n",
       "                var nbb_unformatted_code = \"# rename dimension names\\neessl = eessl.rename_dims({\\\"row\\\": \\\"stations\\\", \\\"col\\\": \\\"rp\\\"})\\n\\n# re-order shape of the data variables\\neessl = eessl.transpose(\\\"scenario\\\", \\\"stations\\\", \\\"rp\\\")\";\n",
       "                var nbb_formatted_code = \"# rename dimension names\\neessl = eessl.rename_dims({\\\"row\\\": \\\"stations\\\", \\\"col\\\": \\\"rp\\\"})\\n\\n# re-order shape of the data variables\\neessl = eessl.transpose(\\\"scenario\\\", \\\"stations\\\", \\\"rp\\\")\";\n",
       "                var nbb_cells = Jupyter.notebook.get_cells();\n",
       "                for (var i = 0; i < nbb_cells.length; ++i) {\n",
       "                    if (nbb_cells[i].input_prompt_number == nbb_cell_id) {\n",
       "                        if (nbb_cells[i].get_text() == nbb_unformatted_code) {\n",
       "                             nbb_cells[i].set_text(nbb_formatted_code);\n",
       "                        }\n",
       "                        break;\n",
       "                    }\n",
       "                }\n",
       "            }, 500);\n",
       "            "
      ],
      "text/plain": [
       "<IPython.core.display.Javascript object>"
      ]
     },
     "metadata": {},
     "output_type": "display_data"
    }
   ],
   "source": [
    "# rename dimension names\n",
    "eessl = eessl.rename_dims({\"row\": \"stations\", \"col\": \"rp\"})\n",
    "\n",
    "# re-order shape of the data variables\n",
    "eessl = eessl.transpose(\"scenario\", \"stations\", \"rp\")"
   ]
  },
  {
   "cell_type": "code",
   "execution_count": 7,
   "id": "a8451254",
   "metadata": {},
   "outputs": [
    {
     "data": {
      "text/html": [
       "<div><svg style=\"position: absolute; width: 0; height: 0; overflow: hidden\">\n",
       "<defs>\n",
       "<symbol id=\"icon-database\" viewBox=\"0 0 32 32\">\n",
       "<path d=\"M16 0c-8.837 0-16 2.239-16 5v4c0 2.761 7.163 5 16 5s16-2.239 16-5v-4c0-2.761-7.163-5-16-5z\"></path>\n",
       "<path d=\"M16 17c-8.837 0-16-2.239-16-5v6c0 2.761 7.163 5 16 5s16-2.239 16-5v-6c0 2.761-7.163 5-16 5z\"></path>\n",
       "<path d=\"M16 26c-8.837 0-16-2.239-16-5v6c0 2.761 7.163 5 16 5s16-2.239 16-5v-6c0 2.761-7.163 5-16 5z\"></path>\n",
       "</symbol>\n",
       "<symbol id=\"icon-file-text2\" viewBox=\"0 0 32 32\">\n",
       "<path d=\"M28.681 7.159c-0.694-0.947-1.662-2.053-2.724-3.116s-2.169-2.030-3.116-2.724c-1.612-1.182-2.393-1.319-2.841-1.319h-15.5c-1.378 0-2.5 1.121-2.5 2.5v27c0 1.378 1.122 2.5 2.5 2.5h23c1.378 0 2.5-1.122 2.5-2.5v-19.5c0-0.448-0.137-1.23-1.319-2.841zM24.543 5.457c0.959 0.959 1.712 1.825 2.268 2.543h-4.811v-4.811c0.718 0.556 1.584 1.309 2.543 2.268zM28 29.5c0 0.271-0.229 0.5-0.5 0.5h-23c-0.271 0-0.5-0.229-0.5-0.5v-27c0-0.271 0.229-0.5 0.5-0.5 0 0 15.499-0 15.5 0v7c0 0.552 0.448 1 1 1h7v19.5z\"></path>\n",
       "<path d=\"M23 26h-14c-0.552 0-1-0.448-1-1s0.448-1 1-1h14c0.552 0 1 0.448 1 1s-0.448 1-1 1z\"></path>\n",
       "<path d=\"M23 22h-14c-0.552 0-1-0.448-1-1s0.448-1 1-1h14c0.552 0 1 0.448 1 1s-0.448 1-1 1z\"></path>\n",
       "<path d=\"M23 18h-14c-0.552 0-1-0.448-1-1s0.448-1 1-1h14c0.552 0 1 0.448 1 1s-0.448 1-1 1z\"></path>\n",
       "</symbol>\n",
       "</defs>\n",
       "</svg>\n",
       "<style>/* CSS stylesheet for displaying xarray objects in jupyterlab.\n",
       " *\n",
       " */\n",
       "\n",
       ":root {\n",
       "  --xr-font-color0: var(--jp-content-font-color0, rgba(0, 0, 0, 1));\n",
       "  --xr-font-color2: var(--jp-content-font-color2, rgba(0, 0, 0, 0.54));\n",
       "  --xr-font-color3: var(--jp-content-font-color3, rgba(0, 0, 0, 0.38));\n",
       "  --xr-border-color: var(--jp-border-color2, #e0e0e0);\n",
       "  --xr-disabled-color: var(--jp-layout-color3, #bdbdbd);\n",
       "  --xr-background-color: var(--jp-layout-color0, white);\n",
       "  --xr-background-color-row-even: var(--jp-layout-color1, white);\n",
       "  --xr-background-color-row-odd: var(--jp-layout-color2, #eeeeee);\n",
       "}\n",
       "\n",
       "html[theme=dark],\n",
       "body.vscode-dark {\n",
       "  --xr-font-color0: rgba(255, 255, 255, 1);\n",
       "  --xr-font-color2: rgba(255, 255, 255, 0.54);\n",
       "  --xr-font-color3: rgba(255, 255, 255, 0.38);\n",
       "  --xr-border-color: #1F1F1F;\n",
       "  --xr-disabled-color: #515151;\n",
       "  --xr-background-color: #111111;\n",
       "  --xr-background-color-row-even: #111111;\n",
       "  --xr-background-color-row-odd: #313131;\n",
       "}\n",
       "\n",
       ".xr-wrap {\n",
       "  display: block !important;\n",
       "  min-width: 300px;\n",
       "  max-width: 700px;\n",
       "}\n",
       "\n",
       ".xr-text-repr-fallback {\n",
       "  /* fallback to plain text repr when CSS is not injected (untrusted notebook) */\n",
       "  display: none;\n",
       "}\n",
       "\n",
       ".xr-header {\n",
       "  padding-top: 6px;\n",
       "  padding-bottom: 6px;\n",
       "  margin-bottom: 4px;\n",
       "  border-bottom: solid 1px var(--xr-border-color);\n",
       "}\n",
       "\n",
       ".xr-header > div,\n",
       ".xr-header > ul {\n",
       "  display: inline;\n",
       "  margin-top: 0;\n",
       "  margin-bottom: 0;\n",
       "}\n",
       "\n",
       ".xr-obj-type,\n",
       ".xr-array-name {\n",
       "  margin-left: 2px;\n",
       "  margin-right: 10px;\n",
       "}\n",
       "\n",
       ".xr-obj-type {\n",
       "  color: var(--xr-font-color2);\n",
       "}\n",
       "\n",
       ".xr-sections {\n",
       "  padding-left: 0 !important;\n",
       "  display: grid;\n",
       "  grid-template-columns: 150px auto auto 1fr 20px 20px;\n",
       "}\n",
       "\n",
       ".xr-section-item {\n",
       "  display: contents;\n",
       "}\n",
       "\n",
       ".xr-section-item input {\n",
       "  display: none;\n",
       "}\n",
       "\n",
       ".xr-section-item input + label {\n",
       "  color: var(--xr-disabled-color);\n",
       "}\n",
       "\n",
       ".xr-section-item input:enabled + label {\n",
       "  cursor: pointer;\n",
       "  color: var(--xr-font-color2);\n",
       "}\n",
       "\n",
       ".xr-section-item input:enabled + label:hover {\n",
       "  color: var(--xr-font-color0);\n",
       "}\n",
       "\n",
       ".xr-section-summary {\n",
       "  grid-column: 1;\n",
       "  color: var(--xr-font-color2);\n",
       "  font-weight: 500;\n",
       "}\n",
       "\n",
       ".xr-section-summary > span {\n",
       "  display: inline-block;\n",
       "  padding-left: 0.5em;\n",
       "}\n",
       "\n",
       ".xr-section-summary-in:disabled + label {\n",
       "  color: var(--xr-font-color2);\n",
       "}\n",
       "\n",
       ".xr-section-summary-in + label:before {\n",
       "  display: inline-block;\n",
       "  content: '►';\n",
       "  font-size: 11px;\n",
       "  width: 15px;\n",
       "  text-align: center;\n",
       "}\n",
       "\n",
       ".xr-section-summary-in:disabled + label:before {\n",
       "  color: var(--xr-disabled-color);\n",
       "}\n",
       "\n",
       ".xr-section-summary-in:checked + label:before {\n",
       "  content: '▼';\n",
       "}\n",
       "\n",
       ".xr-section-summary-in:checked + label > span {\n",
       "  display: none;\n",
       "}\n",
       "\n",
       ".xr-section-summary,\n",
       ".xr-section-inline-details {\n",
       "  padding-top: 4px;\n",
       "  padding-bottom: 4px;\n",
       "}\n",
       "\n",
       ".xr-section-inline-details {\n",
       "  grid-column: 2 / -1;\n",
       "}\n",
       "\n",
       ".xr-section-details {\n",
       "  display: none;\n",
       "  grid-column: 1 / -1;\n",
       "  margin-bottom: 5px;\n",
       "}\n",
       "\n",
       ".xr-section-summary-in:checked ~ .xr-section-details {\n",
       "  display: contents;\n",
       "}\n",
       "\n",
       ".xr-array-wrap {\n",
       "  grid-column: 1 / -1;\n",
       "  display: grid;\n",
       "  grid-template-columns: 20px auto;\n",
       "}\n",
       "\n",
       ".xr-array-wrap > label {\n",
       "  grid-column: 1;\n",
       "  vertical-align: top;\n",
       "}\n",
       "\n",
       ".xr-preview {\n",
       "  color: var(--xr-font-color3);\n",
       "}\n",
       "\n",
       ".xr-array-preview,\n",
       ".xr-array-data {\n",
       "  padding: 0 5px !important;\n",
       "  grid-column: 2;\n",
       "}\n",
       "\n",
       ".xr-array-data,\n",
       ".xr-array-in:checked ~ .xr-array-preview {\n",
       "  display: none;\n",
       "}\n",
       "\n",
       ".xr-array-in:checked ~ .xr-array-data,\n",
       ".xr-array-preview {\n",
       "  display: inline-block;\n",
       "}\n",
       "\n",
       ".xr-dim-list {\n",
       "  display: inline-block !important;\n",
       "  list-style: none;\n",
       "  padding: 0 !important;\n",
       "  margin: 0;\n",
       "}\n",
       "\n",
       ".xr-dim-list li {\n",
       "  display: inline-block;\n",
       "  padding: 0;\n",
       "  margin: 0;\n",
       "}\n",
       "\n",
       ".xr-dim-list:before {\n",
       "  content: '(';\n",
       "}\n",
       "\n",
       ".xr-dim-list:after {\n",
       "  content: ')';\n",
       "}\n",
       "\n",
       ".xr-dim-list li:not(:last-child):after {\n",
       "  content: ',';\n",
       "  padding-right: 5px;\n",
       "}\n",
       "\n",
       ".xr-has-index {\n",
       "  font-weight: bold;\n",
       "}\n",
       "\n",
       ".xr-var-list,\n",
       ".xr-var-item {\n",
       "  display: contents;\n",
       "}\n",
       "\n",
       ".xr-var-item > div,\n",
       ".xr-var-item label,\n",
       ".xr-var-item > .xr-var-name span {\n",
       "  background-color: var(--xr-background-color-row-even);\n",
       "  margin-bottom: 0;\n",
       "}\n",
       "\n",
       ".xr-var-item > .xr-var-name:hover span {\n",
       "  padding-right: 5px;\n",
       "}\n",
       "\n",
       ".xr-var-list > li:nth-child(odd) > div,\n",
       ".xr-var-list > li:nth-child(odd) > label,\n",
       ".xr-var-list > li:nth-child(odd) > .xr-var-name span {\n",
       "  background-color: var(--xr-background-color-row-odd);\n",
       "}\n",
       "\n",
       ".xr-var-name {\n",
       "  grid-column: 1;\n",
       "}\n",
       "\n",
       ".xr-var-dims {\n",
       "  grid-column: 2;\n",
       "}\n",
       "\n",
       ".xr-var-dtype {\n",
       "  grid-column: 3;\n",
       "  text-align: right;\n",
       "  color: var(--xr-font-color2);\n",
       "}\n",
       "\n",
       ".xr-var-preview {\n",
       "  grid-column: 4;\n",
       "}\n",
       "\n",
       ".xr-var-name,\n",
       ".xr-var-dims,\n",
       ".xr-var-dtype,\n",
       ".xr-preview,\n",
       ".xr-attrs dt {\n",
       "  white-space: nowrap;\n",
       "  overflow: hidden;\n",
       "  text-overflow: ellipsis;\n",
       "  padding-right: 10px;\n",
       "}\n",
       "\n",
       ".xr-var-name:hover,\n",
       ".xr-var-dims:hover,\n",
       ".xr-var-dtype:hover,\n",
       ".xr-attrs dt:hover {\n",
       "  overflow: visible;\n",
       "  width: auto;\n",
       "  z-index: 1;\n",
       "}\n",
       "\n",
       ".xr-var-attrs,\n",
       ".xr-var-data {\n",
       "  display: none;\n",
       "  background-color: var(--xr-background-color) !important;\n",
       "  padding-bottom: 5px !important;\n",
       "}\n",
       "\n",
       ".xr-var-attrs-in:checked ~ .xr-var-attrs,\n",
       ".xr-var-data-in:checked ~ .xr-var-data {\n",
       "  display: block;\n",
       "}\n",
       "\n",
       ".xr-var-data > table {\n",
       "  float: right;\n",
       "}\n",
       "\n",
       ".xr-var-name span,\n",
       ".xr-var-data,\n",
       ".xr-attrs {\n",
       "  padding-left: 25px !important;\n",
       "}\n",
       "\n",
       ".xr-attrs,\n",
       ".xr-var-attrs,\n",
       ".xr-var-data {\n",
       "  grid-column: 1 / -1;\n",
       "}\n",
       "\n",
       "dl.xr-attrs {\n",
       "  padding: 0;\n",
       "  margin: 0;\n",
       "  display: grid;\n",
       "  grid-template-columns: 125px auto;\n",
       "}\n",
       "\n",
       ".xr-attrs dt,\n",
       ".xr-attrs dd {\n",
       "  padding: 0;\n",
       "  margin: 0;\n",
       "  float: left;\n",
       "  padding-right: 10px;\n",
       "  width: auto;\n",
       "}\n",
       "\n",
       ".xr-attrs dt {\n",
       "  font-weight: normal;\n",
       "  grid-column: 1;\n",
       "}\n",
       "\n",
       ".xr-attrs dt:hover span {\n",
       "  display: inline-block;\n",
       "  background: var(--xr-background-color);\n",
       "  padding-right: 10px;\n",
       "}\n",
       "\n",
       ".xr-attrs dd {\n",
       "  grid-column: 2;\n",
       "  white-space: pre-wrap;\n",
       "  word-break: break-all;\n",
       "}\n",
       "\n",
       ".xr-icon-database,\n",
       ".xr-icon-file-text2 {\n",
       "  display: inline-block;\n",
       "  vertical-align: middle;\n",
       "  width: 1em;\n",
       "  height: 1.5em !important;\n",
       "  stroke-width: 0;\n",
       "  stroke: currentColor;\n",
       "  fill: currentColor;\n",
       "}\n",
       "</style><pre class='xr-text-repr-fallback'>&lt;xarray.Dataset&gt;\n",
       "Dimensions:    (stations: 2242, scenario: 3, rp: 8)\n",
       "Coordinates:\n",
       "    longitude  (stations) float64 -0.1 -0.1 -0.1 -0.1 -0.3 ... 9.9 9.9 9.9 9.9\n",
       "    latitude   (stations) float64 36.1 39.3 49.7 54.3 ... 57.7 58.7 64.5 64.7\n",
       "    RP         (rp) float32 5.0 10.0 20.0 50.0 100.0 200.0 500.0 1e+03\n",
       "  * scenario   (scenario) object &#x27;historical&#x27; &#x27;rcp45&#x27; &#x27;rcp85&#x27;\n",
       "Dimensions without coordinates: stations, rp\n",
       "Data variables:\n",
       "    ssl        (scenario, stations, rp) float64 1.024 1.051 ... 2.712 2.805\n",
       "Attributes:\n",
       "    title:            European extreme storm surge level\n",
       "    Institution:      Joint European Research Center, Institute of Environmen...\n",
       "    Project Name:     Prototype of a first Global Integrated Coastal Impact-b...\n",
       "    Project Acronym:  CoastAlRisk\n",
       "    reference:        Vousdoukas MI, Voukouvalas E, Annunziato A, Giardino A,...\n",
       "    email:            michail.vousdoukas@ec.europa.eu\n",
       "    version:          1.0\n",
       "    terms_for_use:    European Union, 1995-2015.\\nReuse is authorised, provid...\n",
       "    disclaimer:       Unless the following would not be permitted or valid un...</pre><div class='xr-wrap' style='display:none'><div class='xr-header'><div class='xr-obj-type'>xarray.Dataset</div></div><ul class='xr-sections'><li class='xr-section-item'><input id='section-807594a0-564c-41c5-acde-55c68ae38cc5' class='xr-section-summary-in' type='checkbox' disabled ><label for='section-807594a0-564c-41c5-acde-55c68ae38cc5' class='xr-section-summary'  title='Expand/collapse section'>Dimensions:</label><div class='xr-section-inline-details'><ul class='xr-dim-list'><li><span>stations</span>: 2242</li><li><span class='xr-has-index'>scenario</span>: 3</li><li><span>rp</span>: 8</li></ul></div><div class='xr-section-details'></div></li><li class='xr-section-item'><input id='section-f41ad5fa-4c84-4a06-8b2f-9c8672460cba' class='xr-section-summary-in' type='checkbox'  checked><label for='section-f41ad5fa-4c84-4a06-8b2f-9c8672460cba' class='xr-section-summary' >Coordinates: <span>(4)</span></label><div class='xr-section-inline-details'></div><div class='xr-section-details'><ul class='xr-var-list'><li class='xr-var-item'><div class='xr-var-name'><span>longitude</span></div><div class='xr-var-dims'>(stations)</div><div class='xr-var-dtype'>float64</div><div class='xr-var-preview xr-preview'>-0.1 -0.1 -0.1 -0.1 ... 9.9 9.9 9.9</div><input id='attrs-aa141d76-26ee-4019-8e87-4714e1b28067' class='xr-var-attrs-in' type='checkbox' ><label for='attrs-aa141d76-26ee-4019-8e87-4714e1b28067' title='Show/Hide attributes'><svg class='icon xr-icon-file-text2'><use xlink:href='#icon-file-text2'></use></svg></label><input id='data-13cc5f97-8166-4d1f-b76e-28cbe94674b3' class='xr-var-data-in' type='checkbox'><label for='data-13cc5f97-8166-4d1f-b76e-28cbe94674b3' title='Show/Hide data repr'><svg class='icon xr-icon-database'><use xlink:href='#icon-database'></use></svg></label><div class='xr-var-attrs'><dl class='xr-attrs'><dt><span>long_name :</span></dt><dd>longitude</dd><dt><span>units :</span></dt><dd>degrees_east</dd><dt><span>standard_name :</span></dt><dd>longitude</dd></dl></div><div class='xr-var-data'><pre>array([-0.1, -0.1, -0.1, ...,  9.9,  9.9,  9.9])</pre></div></li><li class='xr-var-item'><div class='xr-var-name'><span>latitude</span></div><div class='xr-var-dims'>(stations)</div><div class='xr-var-dtype'>float64</div><div class='xr-var-preview xr-preview'>36.1 39.3 49.7 ... 58.7 64.5 64.7</div><input id='attrs-781e60a7-54f5-4ae7-b63d-04afd1fffa66' class='xr-var-attrs-in' type='checkbox' ><label for='attrs-781e60a7-54f5-4ae7-b63d-04afd1fffa66' title='Show/Hide attributes'><svg class='icon xr-icon-file-text2'><use xlink:href='#icon-file-text2'></use></svg></label><input id='data-8b9cfbb4-12c4-4646-9521-9da49f94ecff' class='xr-var-data-in' type='checkbox'><label for='data-8b9cfbb4-12c4-4646-9521-9da49f94ecff' title='Show/Hide data repr'><svg class='icon xr-icon-database'><use xlink:href='#icon-database'></use></svg></label><div class='xr-var-attrs'><dl class='xr-attrs'><dt><span>long_name :</span></dt><dd>latitude</dd><dt><span>units :</span></dt><dd>degrees_north</dd><dt><span>standard_name :</span></dt><dd>latitude</dd></dl></div><div class='xr-var-data'><pre>array([36.1, 39.3, 49.7, ..., 58.7, 64.5, 64.7])</pre></div></li><li class='xr-var-item'><div class='xr-var-name'><span>RP</span></div><div class='xr-var-dims'>(rp)</div><div class='xr-var-dtype'>float32</div><div class='xr-var-preview xr-preview'>5.0 10.0 20.0 ... 200.0 500.0 1e+03</div><input id='attrs-ba6b15c0-0c2a-45c4-944a-c1a97d623b1a' class='xr-var-attrs-in' type='checkbox' ><label for='attrs-ba6b15c0-0c2a-45c4-944a-c1a97d623b1a' title='Show/Hide attributes'><svg class='icon xr-icon-file-text2'><use xlink:href='#icon-file-text2'></use></svg></label><input id='data-cee63f14-a81e-4a40-8668-be66143b784d' class='xr-var-data-in' type='checkbox'><label for='data-cee63f14-a81e-4a40-8668-be66143b784d' title='Show/Hide data repr'><svg class='icon xr-icon-database'><use xlink:href='#icon-database'></use></svg></label><div class='xr-var-attrs'><dl class='xr-attrs'><dt><span>long_name :</span></dt><dd>return period</dd><dt><span>units :</span></dt><dd>yr</dd><dt><span>Contents :</span></dt><dd>The RPs have been estimated following the Peak Over Threshold Method (see reference below)</dd><dt><span>Starting date :</span></dt><dd>01-Dec-1969</dd><dt><span>End date :</span></dt><dd>30-Nov-2004 21:00:00</dd></dl></div><div class='xr-var-data'><pre>array([   5.,   10.,   20.,   50.,  100.,  200.,  500., 1000.],\n",
       "      dtype=float32)</pre></div></li><li class='xr-var-item'><div class='xr-var-name'><span class='xr-has-index'>scenario</span></div><div class='xr-var-dims'>(scenario)</div><div class='xr-var-dtype'>object</div><div class='xr-var-preview xr-preview'>&#x27;historical&#x27; &#x27;rcp45&#x27; &#x27;rcp85&#x27;</div><input id='attrs-310d5b6f-d5ec-4633-8c0c-8d8561174477' class='xr-var-attrs-in' type='checkbox' disabled><label for='attrs-310d5b6f-d5ec-4633-8c0c-8d8561174477' title='Show/Hide attributes'><svg class='icon xr-icon-file-text2'><use xlink:href='#icon-file-text2'></use></svg></label><input id='data-16b473f9-080f-4b65-ba18-4c9668190fa7' class='xr-var-data-in' type='checkbox'><label for='data-16b473f9-080f-4b65-ba18-4c9668190fa7' title='Show/Hide data repr'><svg class='icon xr-icon-database'><use xlink:href='#icon-database'></use></svg></label><div class='xr-var-attrs'><dl class='xr-attrs'></dl></div><div class='xr-var-data'><pre>array([&#x27;historical&#x27;, &#x27;rcp45&#x27;, &#x27;rcp85&#x27;], dtype=object)</pre></div></li></ul></div></li><li class='xr-section-item'><input id='section-69394057-399a-4850-b742-8ec55f443566' class='xr-section-summary-in' type='checkbox'  checked><label for='section-69394057-399a-4850-b742-8ec55f443566' class='xr-section-summary' >Data variables: <span>(1)</span></label><div class='xr-section-inline-details'></div><div class='xr-section-details'><ul class='xr-var-list'><li class='xr-var-item'><div class='xr-var-name'><span>ssl</span></div><div class='xr-var-dims'>(scenario, stations, rp)</div><div class='xr-var-dtype'>float64</div><div class='xr-var-preview xr-preview'>1.024 1.051 1.078 ... 2.712 2.805</div><input id='attrs-c92312b5-0d39-4bd8-9d1b-6019dde13790' class='xr-var-attrs-in' type='checkbox' ><label for='attrs-c92312b5-0d39-4bd8-9d1b-6019dde13790' title='Show/Hide attributes'><svg class='icon xr-icon-file-text2'><use xlink:href='#icon-file-text2'></use></svg></label><input id='data-a744be50-9bed-472f-bc7d-9a67a678758f' class='xr-var-data-in' type='checkbox'><label for='data-a744be50-9bed-472f-bc7d-9a67a678758f' title='Show/Hide data repr'><svg class='icon xr-icon-database'><use xlink:href='#icon-database'></use></svg></label><div class='xr-var-attrs'><dl class='xr-attrs'><dt><span>long_name :</span></dt><dd>storm surge level</dd><dt><span>units :</span></dt><dd>m</dd></dl></div><div class='xr-var-data'><pre>array([[[1.02407, 1.0509 , 1.0778 , ..., 1.16939, 1.20762, 1.23753],\n",
       "        [1.24336, 1.28508, 1.32805, ..., 1.4857 , 1.55811, 1.61812],\n",
       "        [1.95   , 2.08892, 2.20901, ..., 2.51257, 2.60544, 2.66859],\n",
       "        ...,\n",
       "        [2.05624, 2.20418, 2.33512, ..., 2.67975, 2.78853, 2.86284],\n",
       "        [1.86446, 2.02245, 2.16554, ..., 2.55166, 2.67389, 2.7566 ],\n",
       "        [1.87579, 2.02328, 2.1549 , ..., 2.49943, 2.60478, 2.67487]],\n",
       "\n",
       "       [[1.03165, 1.05851, 1.08478, ..., 1.16899, 1.20167, 1.22622],\n",
       "        [1.23326, 1.27602, 1.32215, ..., 1.50603, 1.59589, 1.67189],\n",
       "        [1.97503, 2.12185, 2.25063, ..., 2.58303, 2.68587, 2.75567],\n",
       "        ...,\n",
       "        [2.11645, 2.25912, 2.38164, ..., 2.68137, 2.7671 , 2.82265],\n",
       "        [1.91546, 2.07808, 2.22304, ..., 2.60134, 2.71649, 2.79291],\n",
       "        [1.9071 , 2.05876, 2.19542, ..., 2.56052, 2.67487, 2.75187]],\n",
       "\n",
       "       [[1.03412, 1.06436, 1.09628, ..., 1.21896, 1.27761, 1.32699],\n",
       "        [1.22974, 1.2753 , 1.32831, ..., 1.5973 , 1.77785, 1.96619],\n",
       "        [1.985  , 2.12493, 2.24118, ..., 2.50843, 2.57984, 2.62478],\n",
       "        ...,\n",
       "        [2.10311, 2.24885, 2.37682, ..., 2.70514, 2.80472, 2.87116],\n",
       "        [1.92381, 2.08563, 2.23729, ..., 2.67873, 2.83175, 2.94024],\n",
       "        [1.89731, 2.04812, 2.18738, ..., 2.58059, 2.7125 , 2.80462]]])</pre></div></li></ul></div></li><li class='xr-section-item'><input id='section-6cec6069-a062-49b4-bda5-35b874116b68' class='xr-section-summary-in' type='checkbox'  checked><label for='section-6cec6069-a062-49b4-bda5-35b874116b68' class='xr-section-summary' >Attributes: <span>(9)</span></label><div class='xr-section-inline-details'></div><div class='xr-section-details'><dl class='xr-attrs'><dt><span>title :</span></dt><dd>European extreme storm surge level</dd><dt><span>Institution :</span></dt><dd>Joint European Research Center, Institute of Environment and Sustainability, Via Enrico Fermi 2749, I-21027-Ispra</dd><dt><span>Project Name :</span></dt><dd>Prototype of a first Global Integrated Coastal Impact-based Flood Alert and Risk Assessment Tool</dd><dt><span>Project Acronym :</span></dt><dd>CoastAlRisk</dd><dt><span>reference :</span></dt><dd>Vousdoukas MI, Voukouvalas E, Annunziato A, Giardino A, Feyen L. Projections of extreme storm surge levels along Europe. Clim Dyn. February 2016. doi:10.1007/s00382-016-3019-5</dd><dt><span>email :</span></dt><dd>michail.vousdoukas@ec.europa.eu</dd><dt><span>version :</span></dt><dd>1.0</dd><dt><span>terms_for_use :</span></dt><dd>European Union, 1995-2015.\n",
       "Reuse is authorised, provided the source is acknowledged. The reuse policy of the European Commission is implemented by a Decision of 12 December 2011.</dd><dt><span>disclaimer :</span></dt><dd>Unless the following would not be permitted or valid under applicable law, the following applies to the data/information provided by the JRC:\n",
       "\n",
       "1. The JRC data are provided &quot;as is&quot; and &quot;as available&quot; without warranty of any kind, either express or implied, including, but not limited to, any implied warranty against infringement of third parties&#x27; property rights, or merchantability, integration, absence of latent or other defects, satisfactory quality and fitness for a particular purpose. The JRC data do not constitute professional or legal advice (if you need specific advice, you should always consult a suitably qualified professional).\n",
       "2. The JRC has no obligation to provide technical support or remedies for the data. The JRC does not represent or warrant that the data will be error free or uninterrupted, or that all non-conformities can or will be corrected, or that any data are accurate or complete, or that they are of a satisfactory technical or scientific quality.\n",
       "3. The JRC or as the case may be the European Commission shall not be held liable for any direct or indirect, incidental, consequential or other damages, including but not limited to the loss of data, loss of profits, or any other financial loss arising from the use of the JRC data, or inability to use them, even if the JRC is notified of the possibility of such damages.</dd></dl></div></li></ul></div></div>"
      ],
      "text/plain": [
       "<xarray.Dataset>\n",
       "Dimensions:    (stations: 2242, scenario: 3, rp: 8)\n",
       "Coordinates:\n",
       "    longitude  (stations) float64 -0.1 -0.1 -0.1 -0.1 -0.3 ... 9.9 9.9 9.9 9.9\n",
       "    latitude   (stations) float64 36.1 39.3 49.7 54.3 ... 57.7 58.7 64.5 64.7\n",
       "    RP         (rp) float32 5.0 10.0 20.0 50.0 100.0 200.0 500.0 1e+03\n",
       "  * scenario   (scenario) object 'historical' 'rcp45' 'rcp85'\n",
       "Dimensions without coordinates: stations, rp\n",
       "Data variables:\n",
       "    ssl        (scenario, stations, rp) float64 1.024 1.051 ... 2.712 2.805\n",
       "Attributes:\n",
       "    title:            European extreme storm surge level\n",
       "    Institution:      Joint European Research Center, Institute of Environmen...\n",
       "    Project Name:     Prototype of a first Global Integrated Coastal Impact-b...\n",
       "    Project Acronym:  CoastAlRisk\n",
       "    reference:        Vousdoukas MI, Voukouvalas E, Annunziato A, Giardino A,...\n",
       "    email:            michail.vousdoukas@ec.europa.eu\n",
       "    version:          1.0\n",
       "    terms_for_use:    European Union, 1995-2015.\\nReuse is authorised, provid...\n",
       "    disclaimer:       Unless the following would not be permitted or valid un..."
      ]
     },
     "execution_count": 7,
     "metadata": {},
     "output_type": "execute_result"
    },
    {
     "data": {
      "application/javascript": [
       "\n",
       "            setTimeout(function() {\n",
       "                var nbb_cell_id = 7;\n",
       "                var nbb_unformatted_code = \"# scenario is in bold because the coordinate is a dimension index (maybe this should be changed..)\\neessl\";\n",
       "                var nbb_formatted_code = \"# scenario is in bold because the coordinate is a dimension index (maybe this should be changed..)\\neessl\";\n",
       "                var nbb_cells = Jupyter.notebook.get_cells();\n",
       "                for (var i = 0; i < nbb_cells.length; ++i) {\n",
       "                    if (nbb_cells[i].input_prompt_number == nbb_cell_id) {\n",
       "                        if (nbb_cells[i].get_text() == nbb_unformatted_code) {\n",
       "                             nbb_cells[i].set_text(nbb_formatted_code);\n",
       "                        }\n",
       "                        break;\n",
       "                    }\n",
       "                }\n",
       "            }, 500);\n",
       "            "
      ],
      "text/plain": [
       "<IPython.core.display.Javascript object>"
      ]
     },
     "metadata": {},
     "output_type": "display_data"
    }
   ],
   "source": [
    "# check the xarray dataset\n",
    "eessl"
   ]
  },
  {
   "cell_type": "code",
   "execution_count": 9,
   "id": "98440546",
   "metadata": {},
   "outputs": [
    {
     "data": {
      "text/plain": [
       "<xarray.backends.zarr.ZarrStore at 0x1c6a2e5c200>"
      ]
     },
     "execution_count": 9,
     "metadata": {},
     "output_type": "execute_result"
    },
    {
     "data": {
      "application/javascript": [
       "\n",
       "            setTimeout(function() {\n",
       "                var nbb_cell_id = 9;\n",
       "                var nbb_unformatted_code = \"# export to zarr in write mode (to overwrite iff exists)\\neessl.to_zarr(eessl_dir.joinpath(\\\"%s.zarr\\\" % eessl_out_file), mode=\\\"w\\\")\";\n",
       "                var nbb_formatted_code = \"# export to zarr in write mode (to overwrite iff exists)\\neessl.to_zarr(eessl_dir.joinpath(\\\"%s.zarr\\\" % eessl_out_file), mode=\\\"w\\\")\";\n",
       "                var nbb_cells = Jupyter.notebook.get_cells();\n",
       "                for (var i = 0; i < nbb_cells.length; ++i) {\n",
       "                    if (nbb_cells[i].input_prompt_number == nbb_cell_id) {\n",
       "                        if (nbb_cells[i].get_text() == nbb_unformatted_code) {\n",
       "                             nbb_cells[i].set_text(nbb_formatted_code);\n",
       "                        }\n",
       "                        break;\n",
       "                    }\n",
       "                }\n",
       "            }, 500);\n",
       "            "
      ],
      "text/plain": [
       "<IPython.core.display.Javascript object>"
      ]
     },
     "metadata": {},
     "output_type": "display_data"
    }
   ],
   "source": [
    "# export to zarr in write mode (to overwrite iff exists)\n",
    "eessl.to_zarr(eessl_dir.joinpath(\"%s.zarr\" % eessl_out_file), mode=\"w\")"
   ]
  },
  {
   "cell_type": "markdown",
   "id": "9eb2a83a",
   "metadata": {},
   "source": [
    "# 2. check and create geoJSON from Zarr data"
   ]
  },
  {
   "cell_type": "code",
   "execution_count": null,
   "id": "c9db8f36",
   "metadata": {},
   "outputs": [],
   "source": [
    "# locally stored Zarr\n",
    "eessl = xr.open_dataset(eessl_dir.joinpath(\"%s.zarr\" % eessl_out_file))"
   ]
  },
  {
   "cell_type": "code",
   "execution_count": null,
   "id": "eb07eb3a",
   "metadata": {},
   "outputs": [],
   "source": [
    "# do checks (to be decided upon)"
   ]
  },
  {
   "cell_type": "code",
   "execution_count": 58,
   "id": "d9dfda27",
   "metadata": {},
   "outputs": [
    {
     "data": {
      "application/javascript": [
       "\n",
       "            setTimeout(function() {\n",
       "                var nbb_cell_id = 58;\n",
       "                var nbb_unformatted_code = \"# filter out scenarios\\nds_list_name = []\\nfor idx, i in enumerate(eessl[\\\"scenario\\\"][:].values):\\n    ds_list_name.append(eessl_out_file + \\\"_\\\" + i)\\n    # ds_list_name.append(eessl_out_file\\n    # print(idx, eessl[\\\"ssl\\\"][idx, :, :].values.shape)\\n\\n# write data to files (multiple value files - arrays) - Mapbox styling could be done with arrays\\nfor idx, name in enumerate(ds_list_name):\\n    rps = eessl[\\\"RP\\\"][:].values\\n\\n    features = []\\n    for j, (lon, lat) in enumerate(\\n        zip(eessl[\\\"longitude\\\"][:].values, eessl[\\\"latitude\\\"][:].values)\\n    ):\\n        point = geojson.Point((float(lon), float(lat)))\\n        feature = geojson.Feature(geometry=point)\\n        feature[\\\"properties\\\"][\\\"locationId\\\"] = j\\n        for a, b in zip(rps, eessl[\\\"ssl\\\"][idx, j, :].values):\\n            feature[\\\"properties\\\"][\\\"rp_%s\\\" % int(a)] = str(b)\\n        features.append(feature)\\n\\n    # store the features\\n    collection = geojson.FeatureCollection(features)\\n    with open(os.path.join(eessl_dir, \\\"platform\\\", r\\\"%s.geojson\\\" % name), \\\"w\\\") as f:\\n        geojson.dump(collection, f)\";\n",
       "                var nbb_formatted_code = \"# filter out scenarios\\nds_list_name = []\\nfor idx, i in enumerate(eessl[\\\"scenario\\\"][:].values):\\n    ds_list_name.append(eessl_out_file + \\\"_\\\" + i)\\n    # ds_list_name.append(eessl_out_file\\n    # print(idx, eessl[\\\"ssl\\\"][idx, :, :].values.shape)\\n\\n# write data to files (multiple value files - arrays) - Mapbox styling could be done with arrays\\nfor idx, name in enumerate(ds_list_name):\\n    rps = eessl[\\\"RP\\\"][:].values\\n\\n    features = []\\n    for j, (lon, lat) in enumerate(\\n        zip(eessl[\\\"longitude\\\"][:].values, eessl[\\\"latitude\\\"][:].values)\\n    ):\\n        point = geojson.Point((float(lon), float(lat)))\\n        feature = geojson.Feature(geometry=point)\\n        feature[\\\"properties\\\"][\\\"locationId\\\"] = j\\n        for a, b in zip(rps, eessl[\\\"ssl\\\"][idx, j, :].values):\\n            feature[\\\"properties\\\"][\\\"rp_%s\\\" % int(a)] = str(b)\\n        features.append(feature)\\n\\n    # store the features\\n    collection = geojson.FeatureCollection(features)\\n    with open(os.path.join(eessl_dir, \\\"platform\\\", r\\\"%s.geojson\\\" % name), \\\"w\\\") as f:\\n        geojson.dump(collection, f)\";\n",
       "                var nbb_cells = Jupyter.notebook.get_cells();\n",
       "                for (var i = 0; i < nbb_cells.length; ++i) {\n",
       "                    if (nbb_cells[i].input_prompt_number == nbb_cell_id) {\n",
       "                        if (nbb_cells[i].get_text() == nbb_unformatted_code) {\n",
       "                             nbb_cells[i].set_text(nbb_formatted_code);\n",
       "                        }\n",
       "                        break;\n",
       "                    }\n",
       "                }\n",
       "            }, 500);\n",
       "            "
      ],
      "text/plain": [
       "<IPython.core.display.Javascript object>"
      ]
     },
     "metadata": {},
     "output_type": "display_data"
    }
   ],
   "source": [
    "# write geoJSON\n",
    "\n",
    "# filter out scenarios\n",
    "ds_list_name = []\n",
    "for idx, i in enumerate(eessl[\"scenario\"][:].values):\n",
    "    ds_list_name.append(eessl_out_file + \"_\" + i)\n",
    "    # ds_list_name.append(eessl_out_file\n",
    "    # print(idx, eessl[\"ssl\"][idx, :, :].values.shape)\n",
    "\n",
    "# write data to files (multiple value files - arrays) - Mapbox styling could be done with arrays\n",
    "for idx, name in enumerate(ds_list_name):\n",
    "    rps = eessl[\"RP\"][:].values\n",
    "\n",
    "    features = []\n",
    "    for j, (lon, lat) in enumerate(\n",
    "        zip(eessl[\"longitude\"][:].values, eessl[\"latitude\"][:].values)\n",
    "    ):\n",
    "        point = geojson.Point((float(lon), float(lat)))\n",
    "        feature = geojson.Feature(geometry=point)\n",
    "        feature[\"properties\"][\"locationId\"] = j\n",
    "        for a, b in zip(rps, eessl[\"ssl\"][idx, j, :].values):\n",
    "            feature[\"properties\"][\"rp_%s\" % int(a)] = str(b)\n",
    "        features.append(feature)\n",
    "\n",
    "    # store the features\n",
    "    collection = geojson.FeatureCollection(features)\n",
    "    with open(os.path.join(eessl_dir, \"platform\", r\"%s.geojson\" % name), \"w\") as f:\n",
    "        geojson.dump(collection, f)"
   ]
  },
  {
   "cell_type": "code",
   "execution_count": 67,
   "id": "cbaf1394",
   "metadata": {},
   "outputs": [
    {
     "name": "stdout",
     "output_type": "stream",
     "text": [
      "{\"geometry\": {\"coordinates\": [-0.1, 49.7], \"type\": \"Point\"}, \"properties\": {\"locationId\": 2, \"rp_10\": \"2.12493\", \"rp_100\": \"2.44322\", \"rp_1000\": \"2.62478\", \"rp_20\": \"2.24118\", \"rp_200\": \"2.50843\", \"rp_5\": \"1.985\", \"rp_50\": \"2.36607\", \"rp_500\": \"2.57984\"}, \"type\": \"Feature\"}\n",
      "5.0 0.23 4.19\n",
      "10.0 0.24 4.21\n",
      "20.0 0.24 4.32\n",
      "50.0 0.24 4.71\n",
      "100.0 0.25 4.97\n",
      "200.0 0.25 5.19\n",
      "500.0 0.26 5.44\n",
      "1000.0 0.26 5.61\n"
     ]
    },
    {
     "data": {
      "application/javascript": [
       "\n",
       "            setTimeout(function() {\n",
       "                var nbb_cell_id = 67;\n",
       "                var nbb_unformatted_code = \"# check geojson\\n\\nwith open(os.path.join(eessl_dir, \\\"platform\\\", \\\"%s.geojson\\\" % ds_list_name[2])) as f:\\n    check = geojson.load(f)\\n\\nprint(check[\\\"features\\\"][2])\\n\\n# check the minima and maxima for the colormap boundaries\\nscenario = 0\\nfor idx, i in enumerate(rps):\\n    print(\\n        i,\\n        round(min(eessl[\\\"ssl\\\"][scenario, :, idx].values), 2),\\n        round(max(eessl[\\\"ssl\\\"][scenario, :, idx].values), 2),\\n    )\";\n",
       "                var nbb_formatted_code = \"# check geojson\\n\\nwith open(os.path.join(eessl_dir, \\\"platform\\\", \\\"%s.geojson\\\" % ds_list_name[2])) as f:\\n    check = geojson.load(f)\\n\\nprint(check[\\\"features\\\"][2])\\n\\n# check the minima and maxima for the colormap boundaries\\nscenario = 0\\nfor idx, i in enumerate(rps):\\n    print(\\n        i,\\n        round(min(eessl[\\\"ssl\\\"][scenario, :, idx].values), 2),\\n        round(max(eessl[\\\"ssl\\\"][scenario, :, idx].values), 2),\\n    )\";\n",
       "                var nbb_cells = Jupyter.notebook.get_cells();\n",
       "                for (var i = 0; i < nbb_cells.length; ++i) {\n",
       "                    if (nbb_cells[i].input_prompt_number == nbb_cell_id) {\n",
       "                        if (nbb_cells[i].get_text() == nbb_unformatted_code) {\n",
       "                             nbb_cells[i].set_text(nbb_formatted_code);\n",
       "                        }\n",
       "                        break;\n",
       "                    }\n",
       "                }\n",
       "            }, 500);\n",
       "            "
      ],
      "text/plain": [
       "<IPython.core.display.Javascript object>"
      ]
     },
     "metadata": {},
     "output_type": "display_data"
    }
   ],
   "source": [
    "# check geojson\n",
    "\n",
    "with open(os.path.join(eessl_dir, \"platform\", \"%s.geojson\" % ds_list_name[2])) as f:\n",
    "    check = geojson.load(f)\n",
    "\n",
    "print(check[\"features\"][2])\n",
    "\n",
    "# check the minima and maxima for the colormap boundaries\n",
    "#scenario = 0\n",
    "#for idx, i in enumerate(rps):\n",
    "#    print(\n",
    "#        i,\n",
    "#        round(min(eessl[\"ssl\"][scenario, :, idx].values), 2),\n",
    "#        round(max(eessl[\"ssl\"][scenario, :, idx].values), 2),\n",
    "#    )"
   ]
  },
  {
   "cell_type": "markdown",
   "id": "899d03c5",
   "metadata": {},
   "source": [
    "# 3. upload Zarr to GCS bucket"
   ]
  },
  {
   "cell_type": "code",
   "execution_count": 198,
   "id": "3c99e880",
   "metadata": {},
   "outputs": [
    {
     "name": "stdout",
     "output_type": "stream",
     "text": [
      "Folder uploaded to GCS\n"
     ]
    },
    {
     "data": {
      "application/javascript": [
       "\n",
       "            setTimeout(function() {\n",
       "                var nbb_cell_id = 198;\n",
       "                var nbb_unformatted_code = \"# trial\\nos.environ[\\\"GOOGLE_APPLICATION_CREDENTIALS\\\"] = str(GCS_token)\\n\\nstorage_client = storage.Client()\\ndef upload_from_directory(directory_path, dest_bucket_name, dest_blob_name):\\n    rel_paths = directory_path.glob(\\\"**/*\\\")\\n    bucket = storage_client.bucket(dest_bucket_name)\\n    for local_file in rel_paths:\\n        remote_path = f'{dest_blob_name}/{\\\"/\\\".join(str(local_file).split(os.sep)[5:])}'\\n        if os.path.isfile(local_file):\\n            blob = bucket.blob(remote_path)\\n            blob.upload_from_filename(local_file)\\n\\n    # print status\\n    print(\\\"Folder uploaded to GCS\\\")\\n    \\ndirectory_path = eessl_dir.joinpath(\\\"%s.zarr\\\" % eessl_out_file)\\ndest_bucket_name = \\\"dgds-data-public\\\"\\ndest_blob_name = \\\"coclico/\\\" + eessl_out_file + \\\".zarr\\\"\\nfolder_upload = upload_from_directory(directory_path, dest_bucket_name, dest_blob_name)\";\n",
       "                var nbb_formatted_code = \"# trial\\nos.environ[\\\"GOOGLE_APPLICATION_CREDENTIALS\\\"] = str(GCS_token)\\n\\nstorage_client = storage.Client()\\n\\n\\ndef upload_from_directory(directory_path, dest_bucket_name, dest_blob_name):\\n    rel_paths = directory_path.glob(\\\"**/*\\\")\\n    bucket = storage_client.bucket(dest_bucket_name)\\n    for local_file in rel_paths:\\n        remote_path = f'{dest_blob_name}/{\\\"/\\\".join(str(local_file).split(os.sep)[5:])}'\\n        if os.path.isfile(local_file):\\n            blob = bucket.blob(remote_path)\\n            blob.upload_from_filename(local_file)\\n\\n    # print status\\n    print(\\\"Folder uploaded to GCS\\\")\\n\\n\\ndirectory_path = eessl_dir.joinpath(\\\"%s.zarr\\\" % eessl_out_file)\\ndest_bucket_name = \\\"dgds-data-public\\\"\\ndest_blob_name = \\\"coclico/\\\" + eessl_out_file + \\\".zarr\\\"\\nfolder_upload = upload_from_directory(directory_path, dest_bucket_name, dest_blob_name)\";\n",
       "                var nbb_cells = Jupyter.notebook.get_cells();\n",
       "                for (var i = 0; i < nbb_cells.length; ++i) {\n",
       "                    if (nbb_cells[i].input_prompt_number == nbb_cell_id) {\n",
       "                        if (nbb_cells[i].get_text() == nbb_unformatted_code) {\n",
       "                             nbb_cells[i].set_text(nbb_formatted_code);\n",
       "                        }\n",
       "                        break;\n",
       "                    }\n",
       "                }\n",
       "            }, 500);\n",
       "            "
      ],
      "text/plain": [
       "<IPython.core.display.Javascript object>"
      ]
     },
     "metadata": {},
     "output_type": "display_data"
    }
   ],
   "source": [
    "# upload zarr folder to GCS\n",
    "os.environ[\"GOOGLE_APPLICATION_CREDENTIALS\"] = str(GCS_token)\n",
    "\n",
    "# function to upload zarr folder to GCS\n",
    "storage_client = storage.Client()\n",
    "def upload_from_directory(directory_path, dest_bucket_name, dest_blob_name):\n",
    "    rel_paths = directory_path.glob(\"**/*\")\n",
    "    bucket = storage_client.bucket(dest_bucket_name)\n",
    "    for local_file in rel_paths:\n",
    "        remote_path = f'{dest_blob_name}/{\"/\".join(str(local_file).split(os.sep)[5:])}' # note 5: is hardcoded and might lead to problems\n",
    "        if os.path.isfile(local_file):\n",
    "            blob = bucket.blob(remote_path)\n",
    "            blob.upload_from_filename(local_file)\n",
    "\n",
    "    # print status\n",
    "    print(\"Folder uploaded to GCS\")\n",
    "\n",
    "# specification of directory, bucket and file name to feed into the function\n",
    "directory_path = eessl_dir.joinpath(\"%s.zarr\" % eessl_out_file)\n",
    "dest_bucket_name = \"dgds-data-public\"\n",
    "dest_blob_name = \"coclico/\" + eessl_out_file + \".zarr\"\n",
    "folder_upload = upload_from_directory(directory_path, dest_bucket_name, dest_blob_name)"
   ]
  },
  {
   "cell_type": "markdown",
   "id": "3a4c6d5c",
   "metadata": {},
   "source": [
    "# 4. upload geoJSON to Mapbox"
   ]
  },
  {
   "cell_type": "code",
   "execution_count": 71,
   "id": "81767fd2",
   "metadata": {},
   "outputs": [
    {
     "data": {
      "application/javascript": [
       "\n",
       "            setTimeout(function() {\n",
       "                var nbb_cell_id = 71;\n",
       "                var nbb_unformatted_code = \"# ingest .geojson into mapbox tilesets\\n\\n# mapbox private acces key\\naccess_token = r\\\"sk.eyJ1IjoiZ2xvYmFsLWRhdGEtdmlld2VyIiwiYSI6ImNsMWx1azIyejA5cmwzanBueTNwdDB0djQifQ.hkbA5TGIiOcve4mZpi44Uw\\\"\\n\\n# python way of running CLI\\nfor idx, i in enumerate(ds_list_name):\\n    if len(i) > 32:\\n        out_name = ds_list_name[idx].replace(\\n            \\\"historical\\\", \\\"hist\\\"\\n        )  # cap is at 32 digits\\n    if len(i) < 32:\\n        out_name = i  # continue normally\\n\\n    # automated CLI mapbox upload\\n    subprocess.run(\\n        [\\n            \\\"mapbox\\\",\\n            \\\"--access-token\\\",\\n            access_token,\\n            \\\"upload\\\",\\n            r\\\"global-data-viewer.%s\\\" % out_name.split(\\\".\\\")[0],\\n            os.path.join(eessl_dir, \\\"platform\\\", r\\\"%s.geojson\\\" % i.split(\\\".\\\")[0]),\\n        ],\\n        shell=True,\\n        check=True,\\n    )\\n\\n# notebook version of CLI\\n#!mapbox --access-token {access_token} upload {filename} {source}\\n\\n# CLI command\\n# mapbox --access-token sk.eyJ1IjoiZ2xvYmFsLWRhdGEtdmlld2VyIiwiYSI6ImNsMWx1azIyejA5cmwzanBueTNwdDB0djQifQ.hkbA5TGIiOcve4mZpi44Uw upload global-data-viewer.test_cli_upload p:\\\\11205479-coclico\\\\data\\\\01_storm_surge_jrc\\\\platform\\\\CoastAlRisk_Europe_EESSL_Historical.geojson\";\n",
       "                var nbb_formatted_code = \"# ingest .geojson into mapbox tilesets\\n\\n# mapbox private acces key\\naccess_token = r\\\"sk.eyJ1IjoiZ2xvYmFsLWRhdGEtdmlld2VyIiwiYSI6ImNsMWx1azIyejA5cmwzanBueTNwdDB0djQifQ.hkbA5TGIiOcve4mZpi44Uw\\\"\\n\\n# python way of running CLI\\nfor idx, i in enumerate(ds_list_name):\\n    if len(i) > 32:\\n        out_name = ds_list_name[idx].replace(\\n            \\\"historical\\\", \\\"hist\\\"\\n        )  # cap is at 32 digits\\n    if len(i) < 32:\\n        out_name = i  # continue normally\\n\\n    # automated CLI mapbox upload\\n    subprocess.run(\\n        [\\n            \\\"mapbox\\\",\\n            \\\"--access-token\\\",\\n            access_token,\\n            \\\"upload\\\",\\n            r\\\"global-data-viewer.%s\\\" % out_name.split(\\\".\\\")[0],\\n            os.path.join(eessl_dir, \\\"platform\\\", r\\\"%s.geojson\\\" % i.split(\\\".\\\")[0]),\\n        ],\\n        shell=True,\\n        check=True,\\n    )\\n\\n# notebook version of CLI\\n#!mapbox --access-token {access_token} upload {filename} {source}\\n\\n# CLI command\\n# mapbox --access-token sk.eyJ1IjoiZ2xvYmFsLWRhdGEtdmlld2VyIiwiYSI6ImNsMWx1azIyejA5cmwzanBueTNwdDB0djQifQ.hkbA5TGIiOcve4mZpi44Uw upload global-data-viewer.test_cli_upload p:\\\\11205479-coclico\\\\data\\\\01_storm_surge_jrc\\\\platform\\\\CoastAlRisk_Europe_EESSL_Historical.geojson\";\n",
       "                var nbb_cells = Jupyter.notebook.get_cells();\n",
       "                for (var i = 0; i < nbb_cells.length; ++i) {\n",
       "                    if (nbb_cells[i].input_prompt_number == nbb_cell_id) {\n",
       "                        if (nbb_cells[i].get_text() == nbb_unformatted_code) {\n",
       "                             nbb_cells[i].set_text(nbb_formatted_code);\n",
       "                        }\n",
       "                        break;\n",
       "                    }\n",
       "                }\n",
       "            }, 500);\n",
       "            "
      ],
      "text/plain": [
       "<IPython.core.display.Javascript object>"
      ]
     },
     "metadata": {},
     "output_type": "display_data"
    }
   ],
   "source": [
    "# ingest geoJSON into mapbox tilesets\n",
    "\n",
    "# python way of running CLI\n",
    "for idx, i in enumerate(ds_list_name):\n",
    "    if len(i) > 32:\n",
    "        out_name = ds_list_name[idx].replace(\n",
    "            \"historical\", \"hist\"\n",
    "        )  # cap is at 32 digits\n",
    "    if len(i) < 32:\n",
    "        out_name = i  # continue normally\n",
    "\n",
    "    # automated CLI mapbox upload\n",
    "    subprocess.run(\n",
    "        [\n",
    "            \"mapbox\",\n",
    "            \"--access-token\",\n",
    "            mapbox_token,\n",
    "            \"upload\",\n",
    "            r\"global-data-viewer.%s\" % out_name.split(\".\")[0],\n",
    "            os.path.join(eessl_dir, \"platform\", r\"%s.geojson\" % i.split(\".\")[0]),\n",
    "        ],\n",
    "        shell=True,\n",
    "        check=True,\n",
    "    )\n",
    "\n",
    "# notebook version of CLI\n",
    "#!mapbox --access-token {mapbox_token} upload {filename} {source}\n",
    "\n",
    "# CLI command\n",
    "# mapbox --access-token sk.eyJ1IjoiZ2xvYmFsLWRhdGEtdmlld2VyIiwiYSI6ImNsMWx1azIyejA5cmwzanBueTNwdDB0djQifQ.hkbA5TGIiOcve4mZpi44Uw upload global-data-viewer.test_cli_upload p:\\11205479-coclico\\data\\01_storm_surge_jrc\\platform\\CoastAlRisk_Europe_EESSL_Historical.geojson"
   ]
  },
  {
   "cell_type": "code",
   "execution_count": null,
   "id": "c6d6f84d",
   "metadata": {},
   "outputs": [],
   "source": []
  }
 ],
 "metadata": {
  "kernelspec": {
   "display_name": "Python 3 (ipykernel)",
   "language": "python",
   "name": "python3"
  },
  "language_info": {
   "codemirror_mode": {
    "name": "ipython",
    "version": 3
   },
   "file_extension": ".py",
   "mimetype": "text/x-python",
   "name": "python",
   "nbconvert_exporter": "python",
   "pygments_lexer": "ipython3",
   "version": "3.8.12"
  }
 },
 "nbformat": 4,
 "nbformat_minor": 5
}
