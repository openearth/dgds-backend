{
 "cells": [
  {
   "cell_type": "code",
   "execution_count": 17,
   "id": "81edf748",
   "metadata": {},
   "outputs": [],
   "source": [
    "import geojson\n",
    "import netCDF4 as nc\n",
    "\n"
   ]
  },
  {
   "cell_type": "code",
   "execution_count": 18,
   "id": "b8b2c424",
   "metadata": {},
   "outputs": [],
   "source": [
    "dataset = r'/Users/gils_aa/data/coclico/01_storm_surge_jrc/CoastAlRisk_Europe_EESSL_RCP45.nc'"
   ]
  },
  {
   "cell_type": "code",
   "execution_count": 46,
   "id": "3996eb5e",
   "metadata": {},
   "outputs": [
    {
     "name": "stdout",
     "output_type": "stream",
     "text": [
      "False\n"
     ]
    }
   ],
   "source": [
    "ds = nc.Dataset(dataset)\n",
    "\n",
    "print(ds['ssl'][:].mask)\n"
   ]
  },
  {
   "cell_type": "code",
   "execution_count": 34,
   "id": "881103cb",
   "metadata": {},
   "outputs": [
    {
     "name": "stdout",
     "output_type": "stream",
     "text": [
      "5.0\n",
      "10.0\n",
      "20.0\n",
      "50.0\n",
      "100.0\n",
      "200.0\n",
      "500.0\n",
      "1000.0\n"
     ]
    }
   ],
   "source": [
    "# geojson lon, lat\n",
    "\n",
    "\n",
    "for i, rp in enumerate(ds['RP']):\n",
    "    features = []\n",
    "    print(rp)\n",
    "    for j, (lon, lat) in enumerate(zip(ds['longitude'][:], ds['latitude'][:])):\n",
    "        point = geojson.Point((float(lon), float(lat)))\n",
    "        feature = geojson.Feature(geometry=point)\n",
    "        feature['properties']['locationId'] = j\n",
    "        feature['properties']['ssl'] = ds['ssl'][j][i]\n",
    "        features.append(feature) \n",
    "\n",
    "    # store the features\n",
    "    collection = geojson.FeatureCollection(features)\n",
    "    with open(f'CoastAlRisk_Europe_EESSL_RCP45_{rp}.geojson', 'w') as f:\n",
    "        geojson.dump(collection, f)\n"
   ]
  },
  {
   "cell_type": "code",
   "execution_count": 48,
   "id": "3d58ac3e",
   "metadata": {},
   "outputs": [],
   "source": [
    "rp = ds['RP'][:].filled()\n",
    "\n",
    "features = []\n",
    "for j, (lon, lat) in enumerate(zip(ds['longitude'][:], ds['latitude'][:])):\n",
    "    point = geojson.Point((float(lon), float(lat)))\n",
    "    feature = geojson.Feature(geometry=point)\n",
    "    feature['properties']['locationId'] = j\n",
    "    feature['properties']['ssl'] = str(ds['ssl'][j].filled())\n",
    "    feature['properties']['rp'] = str(rp)\n",
    "    features.append(feature) \n",
    "\n",
    "# store the features\n",
    "collection = geojson.FeatureCollection(features)\n",
    "with open(f'CoastAlRisk_Europe_EESSL_RCP45.geojson', 'w') as f:\n",
    "    geojson.dump(collection, f)\n"
   ]
  },
  {
   "cell_type": "code",
   "execution_count": null,
   "id": "12818301",
   "metadata": {},
   "outputs": [],
   "source": []
  }
 ],
 "metadata": {
  "kernelspec": {
   "display_name": "Python 3 (ipykernel)",
   "language": "python",
   "name": "python3"
  },
  "language_info": {
   "codemirror_mode": {
    "name": "ipython",
    "version": 3
   },
   "file_extension": ".py",
   "mimetype": "text/x-python",
   "name": "python",
   "nbconvert_exporter": "python",
   "pygments_lexer": "ipython3",
   "version": "3.10.2"
  }
 },
 "nbformat": 4,
 "nbformat_minor": 5
}
