{
 "cells": [
  {
   "cell_type": "code",
   "execution_count": 7,
   "id": "81edf748",
   "metadata": {},
   "outputs": [],
   "source": [
    "import geojson\n",
    "import netCDF4 as nc\n",
    "import os"
   ]
  },
  {
   "cell_type": "code",
   "execution_count": 37,
   "id": "b8b2c424",
   "metadata": {},
   "outputs": [],
   "source": [
    "folder = r'p:\\11205479-coclico\\data\\01_storm_surge_jrc'\n",
    "#dataset = 'CoastAlRisk_Europe_EESSL_RCP45.nc'\n",
    "#dataset = 'CoastAlRisk_Europe_EESSL_RCP85.nc'\n",
    "dataset = 'CoastAlRisk_Europe_EESSL_Historical.nc'"
   ]
  },
  {
   "cell_type": "code",
   "execution_count": 38,
   "id": "3996eb5e",
   "metadata": {},
   "outputs": [
    {
     "name": "stdout",
     "output_type": "stream",
     "text": [
      "False\n"
     ]
    },
    {
     "name": "stderr",
     "output_type": "stream",
     "text": [
      "C:\\Users\\kras\\Anaconda3\\envs\\SDB_env\\lib\\site-packages\\ipykernel_launcher.py:2: DeprecationWarning: `np.bool` is a deprecated alias for the builtin `bool`. To silence this warning, use `bool` by itself. Doing this will not modify any behavior and is safe. If you specifically wanted the numpy scalar type, use `np.bool_` here.\n",
      "Deprecated in NumPy 1.20; for more details and guidance: https://numpy.org/devdocs/release/1.20.0-notes.html#deprecations\n",
      "  \n"
     ]
    }
   ],
   "source": [
    "ds = nc.Dataset(os.path.join(folder, dataset))\n",
    "print(ds['ssl'][:].mask)"
   ]
  },
  {
   "cell_type": "code",
   "execution_count": 39,
   "id": "1f77dce3",
   "metadata": {},
   "outputs": [
    {
     "data": {
      "text/plain": [
       "<class 'netCDF4._netCDF4.Dataset'>\n",
       "root group (NETCDF3_64BIT_OFFSET data model, file format NETCDF3):\n",
       "    title: European extreme storm surge level\n",
       "    Institution: Joint European Research Center, Institute of Environment and Sustainability, Via Enrico Fermi 2749, I-21027-Ispra\n",
       "    Project Name: Prototype of a first Global Integrated Coastal Impact-based Flood Alert and Risk Assessment Tool\n",
       "    Project Acronym: CoastAlRisk\n",
       "    reference: Vousdoukas MI, Voukouvalas E, Annunziato A, Giardino A, Feyen L. Projections of extreme storm surge levels along Europe. Clim Dyn. February 2016. doi:10.1007/s00382-016-3019-5\n",
       "    email: michail.vousdoukas@ec.europa.eu\n",
       "    version: 1.0\n",
       "    terms_for_use: European Union, 1995-2015.\n",
       "Reuse is authorised, provided the source is acknowledged. The reuse policy of the European Commission is implemented by a Decision of 12 December 2011.\n",
       "    disclaimer: Unless the following would not be permitted or valid under applicable law, the following applies to the data/information provided by the JRC:\n",
       "\n",
       "1. The JRC data are provided \"as is\" and \"as available\" without warranty of any kind, either express or implied, including, but not limited to, any implied warranty against infringement of third parties' property rights, or merchantability, integration, absence of latent or other defects, satisfactory quality and fitness for a particular purpose. The JRC data do not constitute professional or legal advice (if you need specific advice, you should always consult a suitably qualified professional).\n",
       "2. The JRC has no obligation to provide technical support or remedies for the data. The JRC does not represent or warrant that the data will be error free or uninterrupted, or that all non-conformities can or will be corrected, or that any data are accurate or complete, or that they are of a satisfactory technical or scientific quality.\n",
       "3. The JRC or as the case may be the European Commission shall not be held liable for any direct or indirect, incidental, consequential or other damages, including but not limited to the loss of data, loss of profits, or any other financial loss arising from the use of the JRC data, or inability to use them, even if the JRC is notified of the possibility of such damages.\n",
       "    dimensions(sizes): col(8), row(2242)\n",
       "    variables(dimensions): float64 \u001b[4mlongitude\u001b[0m(row), float64 \u001b[4mlatitude\u001b[0m(row), float64 \u001b[4mssl\u001b[0m(row,col), float32 \u001b[4mRP\u001b[0m(col)\n",
       "    groups: "
      ]
     },
     "execution_count": 39,
     "metadata": {},
     "output_type": "execute_result"
    }
   ],
   "source": [
    "ds"
   ]
  },
  {
   "cell_type": "code",
   "execution_count": 40,
   "id": "881103cb",
   "metadata": {},
   "outputs": [],
   "source": [
    "# single data files\n",
    "#for i, rp in enumerate(ds['RP']):\n",
    "#    features = []\n",
    "#    print(rp)\n",
    "#    for j, (lon, lat) in enumerate(zip(ds['longitude'][:], ds['latitude'][:])):\n",
    "#        point = geojson.Point((float(lon), float(lat)))\n",
    "#        feature = geojson.Feature(geometry=point)\n",
    "#        feature['properties']['locationId'] = j\n",
    "#        feature['properties']['ssl'] = ds['ssl'][j][i]\n",
    "#        features.append(feature) \n",
    "#\n",
    "#    # store the features\n",
    "#    collection = geojson.FeatureCollection(features)\n",
    "#    with open(os.path.join(folder, 'platform', r'EU_EESSL_JRC_RCP45_%s.geojson'%(int(rp))), 'w') as f:\n",
    "#        geojson.dump(collection, f)"
   ]
  },
  {
   "cell_type": "code",
   "execution_count": 41,
   "id": "3d58ac3e",
   "metadata": {},
   "outputs": [
    {
     "name": "stderr",
     "output_type": "stream",
     "text": [
      "C:\\Users\\kras\\Anaconda3\\envs\\SDB_env\\lib\\site-packages\\ipykernel_launcher.py:3: DeprecationWarning: `np.bool` is a deprecated alias for the builtin `bool`. To silence this warning, use `bool` by itself. Doing this will not modify any behavior and is safe. If you specifically wanted the numpy scalar type, use `np.bool_` here.\n",
      "Deprecated in NumPy 1.20; for more details and guidance: https://numpy.org/devdocs/release/1.20.0-notes.html#deprecations\n",
      "  This is separate from the ipykernel package so we can avoid doing imports until\n",
      "C:\\Users\\kras\\Anaconda3\\envs\\SDB_env\\lib\\site-packages\\ipykernel_launcher.py:6: DeprecationWarning: `np.bool` is a deprecated alias for the builtin `bool`. To silence this warning, use `bool` by itself. Doing this will not modify any behavior and is safe. If you specifically wanted the numpy scalar type, use `np.bool_` here.\n",
      "Deprecated in NumPy 1.20; for more details and guidance: https://numpy.org/devdocs/release/1.20.0-notes.html#deprecations\n",
      "  \n",
      "C:\\Users\\kras\\Anaconda3\\envs\\SDB_env\\lib\\site-packages\\ipykernel_launcher.py:10: DeprecationWarning: `np.bool` is a deprecated alias for the builtin `bool`. To silence this warning, use `bool` by itself. Doing this will not modify any behavior and is safe. If you specifically wanted the numpy scalar type, use `np.bool_` here.\n",
      "Deprecated in NumPy 1.20; for more details and guidance: https://numpy.org/devdocs/release/1.20.0-notes.html#deprecations\n",
      "  # Remove the CWD from sys.path while we load stuff.\n"
     ]
    }
   ],
   "source": [
    "# multiple data files; \n",
    "\n",
    "rp = ds['RP'][:].filled()\n",
    "\n",
    "features = []\n",
    "for j, (lon, lat) in enumerate(zip(ds['longitude'][:], ds['latitude'][:])):\n",
    "    point = geojson.Point((float(lon), float(lat)))\n",
    "    feature = geojson.Feature(geometry=point)\n",
    "    feature['properties']['locationId'] = j\n",
    "    feature['properties']['ssl'] = str(ds['ssl'][j].filled())\n",
    "    feature['properties']['rp'] = str(rp)\n",
    "    features.append(feature) \n",
    "\n",
    "# store the features\n",
    "collection = geojson.FeatureCollection(features)\n",
    "with open(os.path.join(folder, 'platform', r'EU_EESSL_JRC_Hist.geojson'), 'w') as f:\n",
    "    geojson.dump(collection, f)"
   ]
  },
  {
   "cell_type": "code",
   "execution_count": 43,
   "id": "12818301",
   "metadata": {},
   "outputs": [
    {
     "data": {
      "text/plain": [
       "{\"geometry\": {\"coordinates\": [-0.1, 36.1], \"type\": \"Point\"}, \"properties\": {\"locationId\": 0, \"rp\": \"[   5.   10.   20.   50.  100.  200.  500. 1000.]\", \"ssl\": \"[1.02407 1.0509  1.0778  1.11369 1.14128 1.16939 1.20762 1.23753]\"}, \"type\": \"Feature\"}"
      ]
     },
     "execution_count": 43,
     "metadata": {},
     "output_type": "execute_result"
    }
   ],
   "source": [
    "# check geojson\n",
    "\n",
    "with open(os.path.join(folder, 'platform', 'EU_EESSL_JRC_Hist.geojson')) as f:\n",
    "    check = geojson.load(f)\n",
    "    \n",
    "check.keys()\n",
    "check['features'][0]"
   ]
  },
  {
   "cell_type": "code",
   "execution_count": null,
   "id": "7a639923",
   "metadata": {},
   "outputs": [],
   "source": []
  }
 ],
 "metadata": {
  "kernelspec": {
   "display_name": "Python 3 (ipykernel)",
   "language": "python",
   "name": "python3"
  },
  "language_info": {
   "codemirror_mode": {
    "name": "ipython",
    "version": 3
   },
   "file_extension": ".py",
   "mimetype": "text/x-python",
   "name": "python",
   "nbconvert_exporter": "python",
   "pygments_lexer": "ipython3",
   "version": "3.7.10"
  }
 },
 "nbformat": 4,
 "nbformat_minor": 5
}
