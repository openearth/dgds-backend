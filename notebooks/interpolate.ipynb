{
 "cells": [
  {
   "cell_type": "code",
   "execution_count": 1,
   "metadata": {},
   "outputs": [],
   "source": [
    "import pandas as pd\n",
    "from tvtk.api import tvtk\n",
    "from tvtk.common import configure_input, configure_source_data\n",
    "from tvtk.common import configure_connection, configure_input, configure_input_data, configure_outputs\n",
    "import gridded \n",
    "import xarray as xr\n",
    "import scipy.interpolate\n",
    "import numpy as np\n",
    "import netCDF4\n",
    "import matplotlib.pyplot as plt\n"
   ]
  },
  {
   "cell_type": "code",
   "execution_count": 2,
   "metadata": {},
   "outputs": [],
   "source": [
    "def grid2poly(grid):\n",
    "    faces = grid.faces\n",
    "    points = grid.nodes\n",
    "\n",
    "    points[:, 0] = np.mod(points[:, 0], 360)\n",
    "    n_cells = faces.shape[0]\n",
    "\n",
    "    cell_array = tvtk.CellArray()\n",
    "\n",
    "    counts = (~faces.mask).sum(axis=1)\n",
    "    assert faces.min() >= 0, 'expected 0 based faces'\n",
    "    cell_idx = np.c_[counts, faces.filled(-999)].ravel()\n",
    "    cell_idx = cell_idx[cell_idx != -999]\n",
    "    cell_array.set_cells(n_cells, cell_idx)\n",
    "\n",
    "    # fill in the properties\n",
    "    polydata = tvtk.PolyData()\n",
    "    # fill in z dimension\n",
    "    polydata.points = np.c_[points, np.zeros_like(points[:, 0])]\n",
    "    polydata.polys = cell_array\n",
    "    return polydata\n",
    "\n",
    "def update_data(ds, polydata, t=0):\n",
    "    for key in ['water_level', 'water_level_surge']:\n",
    "        arr = ds.variables[key][t, ...]\n",
    "        array = tvtk.FloatArray()\n",
    "        array.from_array(arr)\n",
    "        array.name = key\n",
    "        polydata.cell_data.add_array(array)\n",
    "    polydata.modified()"
   ]
  },
  {
   "cell_type": "code",
   "execution_count": 3,
   "metadata": {},
   "outputs": [],
   "source": [
    "def setup_pipeline(polydata, width=1000, height=1000):\n",
    "    # resample = tvtk.PResampleFilter()\n",
    "    resample = tvtk.ResampleToImage()\n",
    "    cell2point = tvtk.CellDataToPointData()\n",
    "    # setup the pipeline\n",
    "    configure_input(cell2point, polydata)\n",
    "\n",
    "    configure_input(resample, cell2point)\n",
    "\n",
    "    resample.sampling_dimensions = np.array([width, height, 1])\n",
    "\n",
    "    # TODO: check if this can be left out\n",
    "    resample.modified()\n",
    "    resample.update()\n",
    "    polydata.modified()\n",
    "    return resample\n"
   ]
  },
  {
   "cell_type": "code",
   "execution_count": 18,
   "metadata": {},
   "outputs": [
    {
     "name": "stdout",
     "output_type": "stream",
     "text": [
      "154 ms ± 21.9 ms per loop (mean ± std. dev. of 7 runs, 1 loop each)\n"
     ]
    }
   ],
   "source": [
    "img_size = (1000, 1000)\n",
    "\n",
    "\n",
    "ds = netCDF4.Dataset('/Users/baart_f/data/gtsm/glossis/2021041906_DflowFM_gtsm_waterlevel_00_fc.nc')\n",
    "grid = gridded.pyugrid.ugrid.UGrid.from_nc_dataset(ds)\n",
    "polydata =  grid2poly(grid)\n",
    "resample = setup_pipeline(polydata)\n",
    "\n"
   ]
  },
  {
   "cell_type": "code",
   "execution_count": 14,
   "metadata": {},
   "outputs": [
    {
     "name": "stdout",
     "output_type": "stream",
     "text": [
      "1.62 s ± 99.6 ms per loop (mean ± std. dev. of 7 runs, 1 loop each)\n"
     ]
    }
   ],
   "source": [
    "%%timeit\n",
    "update_data(ds, polydata, t=0)\n",
    "resample.update()\n",
    "mask = np.array(resample.get_output().point_data.get_array(2))\n",
    "mask = np.logical_not(mask.reshape(img_size))\n",
    "surge = np.array(resample.get_output().point_data.get_array(1))\n",
    "surge = surge.reshape(img_size)\n",
    "surge = np.ma.masked_array(surge, mask=mask)\n",
    "\n",
    "\n"
   ]
  },
  {
   "cell_type": "code",
   "execution_count": 17,
   "metadata": {},
   "outputs": [
    {
     "data": {
      "text/plain": [
       "155.52"
      ]
     },
     "execution_count": 17,
     "metadata": {},
     "output_type": "execute_result"
    }
   ],
   "source": [
    "1.62 * 6 * 16 "
   ]
  },
  {
   "cell_type": "code",
   "execution_count": 12,
   "metadata": {},
   "outputs": [
    {
     "data": {
      "text/plain": [
       "<matplotlib.image.AxesImage at 0x134373d60>"
      ]
     },
     "execution_count": 12,
     "metadata": {},
     "output_type": "execute_result"
    },
    {
     "data": {
      "image/png": "[encoded data removed]",
      "text/plain": [
       "<Figure size 432x288 with 1 Axes>"
      ]
     },
     "metadata": {
      "needs_background": "light"
     },
     "output_type": "display_data"
    }
   ],
   "source": [
    "img = resample.get_output()\n",
    "plt.imshow(surge, origin='bottom')"
   ]
  },
  {
   "cell_type": "code",
   "execution_count": null,
   "metadata": {},
   "outputs": [],
   "source": [
    "writer = tvtk.XMLDataSetWriter()\n",
    "writer.file_name = '/Users/baart_f/data/gtsm/test.vtp'\n",
    "configure_input(writer, polydata)\n",
    "writer.write()"
   ]
  },
  {
   "cell_type": "code",
   "execution_count": null,
   "metadata": {},
   "outputs": [],
   "source": [
    "writer = tvtk.XMLImageDataWriter()\n",
    "writer.file_name = '/Users/baart_f/data/gtsm/test.vti'\n",
    "\n",
    "configure_input(writer, resample)\n",
    "writer.print_traits()\n",
    "writer.write()"
   ]
  },
  {
   "cell_type": "code",
   "execution_count": null,
   "metadata": {},
   "outputs": [],
   "source": []
  },
  {
   "cell_type": "code",
   "execution_count": null,
   "metadata": {},
   "outputs": [],
   "source": []
  }
 ],
 "metadata": {
  "kernelspec": {
   "display_name": "Python 3",
   "language": "python",
   "name": "python3"
  },
  "language_info": {
   "codemirror_mode": {
    "name": "ipython",
    "version": 3
   },
   "file_extension": ".py",
   "mimetype": "text/x-python",
   "name": "python",
   "nbconvert_exporter": "python",
   "pygments_lexer": "ipython3",
   "version": "3.8.8"
  }
 },
 "nbformat": 4,
 "nbformat_minor": 4
}
