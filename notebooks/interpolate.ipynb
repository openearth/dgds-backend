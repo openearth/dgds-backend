{
 "cells": [
  {
   "cell_type": "code",
   "execution_count": 1,
   "metadata": {},
   "outputs": [],
   "source": [
    "import pathlib\n",
    "import pandas as pd\n",
    "from tvtk.api import tvtk\n",
    "from tvtk.common import configure_input, configure_source_data\n",
    "from tvtk.common import configure_connection, configure_input, configure_input_data, configure_outputs\n",
    "import gridded \n",
    "import xarray as xr\n",
    "import scipy.interpolate\n",
    "import numpy as np\n",
    "import netCDF4\n",
    "import matplotlib.pyplot as plt\n",
    "\n"
   ]
  },
  {
   "cell_type": "code",
   "execution_count": 2,
   "metadata": {},
   "outputs": [],
   "source": [
    "def grid2poly(grid):\n",
    "    points = grid.nodes\n",
    "    \n",
    "    face_coords_mask = np.dstack([grid.faces.mask, grid.faces.mask])\n",
    "    face_coords = np.ma.masked_array(\n",
    "        grid.nodes[grid.faces], \n",
    "        face_coords_mask\n",
    "    )\n",
    "\n",
    "\n",
    "    # select faces that we need to duplicate\n",
    "    # TODO: duplicate these (with nodes moved to other end of the world) (mod something...)\n",
    "    x_max, y_max = face_coords.max(axis=(1)).T\n",
    "    x_min, y_min = face_coords.min(axis=(1)).T\n",
    "    mask = (x_min < -150) & (x_max > 150) \n",
    "\n",
    "    # Select faces\n",
    "    faces = grid.faces[~mask]\n",
    "\n",
    "\n",
    "    # points[:, 0] = np.mod(points[:, 0], 360)\n",
    "    n_cells = faces.shape[0]\n",
    "\n",
    "    cell_array = tvtk.CellArray()\n",
    "\n",
    "    counts = (~faces.mask).sum(axis=1)\n",
    "    assert faces.min() >= 0, 'expected 0 based faces'\n",
    "    cell_idx = np.c_[counts, faces.filled(-999)].ravel()\n",
    "    cell_idx = cell_idx[cell_idx != -999]\n",
    "    cell_array.set_cells(n_cells, cell_idx)\n",
    "\n",
    "    # fill in the properties\n",
    "    polydata = tvtk.PolyData()\n",
    "    # fill in z dimension\n",
    "    polydata.points = np.c_[points, np.zeros_like(points[:, 0])]\n",
    "    polydata.polys = cell_array\n",
    "    return polydata\n",
    "\n",
    "def update_data(path, polydata, t=0):\n",
    "    ds = netCDF4.Dataset(path)\n",
    "    for key in ['water_level', 'water_level_surge']:\n",
    "        arr = ds.variables[key][t, ...]\n",
    "        array = tvtk.FloatArray()\n",
    "        array.from_array(arr)\n",
    "        array.name = key\n",
    "        polydata.cell_data.add_array(array)\n",
    "    polydata.modified()\n",
    "    ds.close()"
   ]
  },
  {
   "cell_type": "code",
   "execution_count": 3,
   "metadata": {},
   "outputs": [],
   "source": [
    "# f = files[4]\n",
    "# ds = netCDF4.Dataset(f)\n",
    "# grid = gridded.pyugrid.ugrid.UGrid.from_nc_dataset(ds)\n",
    "    \n",
    "# # same mask as faces, but stacked in 3rd dimension (x, y)\n",
    "# face_coords_mask = np.dstack([grid.faces.mask, grid.faces.mask])\n",
    "# face_coords = np.ma.masked_array(\n",
    "#     grid.nodes[grid.faces], \n",
    "#     face_coords_mask\n",
    "# )\n",
    "\n",
    "# x_max, y_max = face_coords.max(axis=(1)).T\n",
    "# x_min, y_min = face_coords.min(axis=(1)).T\n",
    "# mask = (x_min < -150) & (x_max > 150) \n",
    "\n",
    "# x_max, y_max = face_coords.max(axis=(1)).T\n",
    "# x_min, y_min = face_coords.min(axis=(1)).T\n",
    "# mask = (x_min < -150) & (x_max > 150) \n",
    "\n",
    "# selected_faces = grid.faces[~mask]\n",
    "\n",
    "# points = grid.nodes\n",
    "\n",
    "\n",
    "# # points[:, 0] = np.mod(points[:, 0], 360)\n",
    "# n_cells = selected_faces.shape[0]\n",
    "\n",
    "# cell_array = tvtk.CellArray()\n",
    "\n",
    "# counts = (~selected_faces.mask).sum(axis=1)\n",
    "# assert selected_faces.min() >= 0, 'expected 0 based faces'\n",
    "# cell_idx = np.c_[counts, selected_faces.filled(-999)].ravel()\n",
    "# cell_idx = cell_idx[cell_idx != -999]\n",
    "# cell_array.set_cells(n_cells, cell_idx)\n",
    "\n",
    "# # fill in the properties\n",
    "# polydata = tvtk.PolyData()\n",
    "# # fill in z dimension\n",
    "# polydata.points = np.c_[points, np.zeros_like(points[:, 0])]\n",
    "# polydata.polys = cell_array"
   ]
  },
  {
   "cell_type": "code",
   "execution_count": 4,
   "metadata": {},
   "outputs": [],
   "source": [
    "def setup_pipeline(polydata, width=1000, height=1000):\n",
    "    # resample = tvtk.PResampleFilter()\n",
    "    resample = tvtk.ResampleToImage()\n",
    "    cell2point = tvtk.CellDataToPointData()\n",
    "    # setup the pipeline\n",
    "    configure_input(cell2point, polydata)\n",
    "\n",
    "    configure_input(resample, cell2point)\n",
    "\n",
    "    resample.sampling_dimensions = np.array([width, height, 1])\n",
    "\n",
    "    # TODO: check if this can be left out\n",
    "    resample.modified()\n",
    "    resample.update()\n",
    "    polydata.modified()\n",
    "    return resample\n"
   ]
  },
  {
   "cell_type": "code",
   "execution_count": 13,
   "metadata": {},
   "outputs": [],
   "source": [
    "data_dir = '/Users/baart_f/data/gtsm/glossis'\n",
    "img_size = (7200, 3600)\n",
    "\n",
    "\n"
   ]
  },
  {
   "cell_type": "code",
   "execution_count": 14,
   "metadata": {},
   "outputs": [],
   "source": [
    "path = pathlib.Path(data_dir)\n",
    "files = list(path.glob('*.nc'))\n",
    "\n",
    "polydatas_by_name = {}\n",
    "# apf = tvtk.AppendPolyData(0)\n",
    "mbd = tvtk.MultiBlockDataSet()\n",
    "mbd.number_of_blocks = len(files)"
   ]
  },
  {
   "cell_type": "code",
   "execution_count": 15,
   "metadata": {},
   "outputs": [],
   "source": [
    "\n",
    "for i, f in enumerate(files):\n",
    "    ds = netCDF4.Dataset(f)\n",
    "    grid = gridded.pyugrid.ugrid.UGrid.from_nc_dataset(ds)\n",
    "    polydata =  grid2poly(grid)\n",
    "    # apf.add_input_data(polydata)\n",
    "    mbd.set_block(i, polydata)\n",
    "    polydatas_by_name[f.name] = polydata\n",
    "    ds.close()\n",
    "# apf.update()\n",
    "mbm = tvtk.MultiBlockMergeFilter()\n",
    "configure_input_data(mbm, mbd)\n",
    "resample = setup_pipeline(mbm, width=img_size[0], height=img_size[1])"
   ]
  },
  {
   "cell_type": "code",
   "execution_count": 20,
   "metadata": {},
   "outputs": [],
   "source": [
    "for path in files:\n",
    "    polydata = polydatas_by_name[path.name]\n",
    "    update_data(path, polydata, t=1)\n",
    "resample.update()\n"
   ]
  },
  {
   "cell_type": "code",
   "execution_count": 18,
   "metadata": {},
   "outputs": [],
   "source": [
    "mask = np.array(resample.get_output().point_data.get_array(2))\n",
    "mask = np.logical_not(mask.reshape(img_size))\n",
    "surge = np.array(resample.get_output().point_data.get_array(1))\n",
    "surge = surge.reshape(img_size)\n",
    "surge = np.ma.masked_array(surge, mask=mask)\n",
    "wl = np.array(resample.get_output().point_data.get_array(0))\n",
    "wl = wl.reshape(img_size)\n",
    "wl = np.ma.masked_array(wl, mask=mask)\n",
    "\n",
    "\n"
   ]
  },
  {
   "cell_type": "code",
   "execution_count": 21,
   "metadata": {},
   "outputs": [
    {
     "data": {
      "text/plain": [
       "<matplotlib.image.AxesImage at 0x12ab89790>"
      ]
     },
     "execution_count": 21,
     "metadata": {},
     "output_type": "execute_result"
    },
    {
     "data": {
      "image/png": "[encoded data removed]",
      "text/plain": [
       "<Figure size 432x288 with 1 Axes>"
      ]
     },
     "metadata": {
      "needs_background": "light"
     },
     "output_type": "display_data"
    }
   ],
   "source": [
    "img = resample.get_output()\n",
    "plt.imshow(surge, origin='bottom')"
   ]
  },
  {
   "cell_type": "code",
   "execution_count": 11,
   "metadata": {},
   "outputs": [
    {
     "data": {
      "text/plain": [
       "1"
      ]
     },
     "execution_count": 11,
     "metadata": {},
     "output_type": "execute_result"
    }
   ],
   "source": [
    "writer = tvtk.XMLDataSetWriter()\n",
    "writer.file_name = '/Users/baart_f/data/gtsm/test.vtp'\n",
    "configure_input(writer, mbm)\n",
    "writer.write()"
   ]
  },
  {
   "cell_type": "code",
   "execution_count": 12,
   "metadata": {},
   "outputs": [
    {
     "name": "stdout",
     "output_type": "stream",
     "text": [
      "_in_set:                           0\n",
      "_vtk_obj:                          (vtkmodules.vtkIOXML....taWriter)0x129561160\n",
      "abort_execute:                     0\n",
      "abort_execute_:                    0\n",
      "block_size:                        32768\n",
      "byte_order:                        'little_endian'\n",
      "byte_order_:                       1\n",
      "class_name:                        'vtkXMLImageDataWriter'\n",
      "compression_level:                 5\n",
      "compressor:                        <tvtk.tvtk_classes.z_...ject at 0x12942b860>\n",
      "data_mode:                         'appended'\n",
      "data_mode_:                        2\n",
      "debug:                             False\n",
      "debug_:                            0\n",
      "default_file_extension:            'vti'\n",
      "encode_appended_data:              1\n",
      "encode_appended_data_:             1\n",
      "error_code:                        0\n",
      "executive:                         <tvtk.tvtk_classes.co...ject at 0x12942b860>\n",
      "file_name:                         '/Users/baart_f/data/gtsm/test.vti'\n",
      "ghost_level:                       0\n",
      "global_warning_display:            1\n",
      "global_warning_display_:           1\n",
      "header_type:                       'u_int32'\n",
      "header_type_:                      32\n",
      "id_type:                           'int64'\n",
      "id_type_:                          64\n",
      "information:                       <tvtk.tvtk_classes.in...ject at 0x12942b860>\n",
      "input:                             <tvtk.tvtk_classes.im...ject at 0x1294364a0>\n",
      "input_algorithm:                   <tvtk.tvtk_classes.re...ject at 0x1293c7090>\n",
      "input_connection:                  <tvtk.tvtk_classes.al...ject at 0x12942b860>\n",
      "input_executive:                   <tvtk.tvtk_classes.co...ject at 0x12942b860>\n",
      "input_information:                 <tvtk.tvtk_classes.in...ject at 0x12942b860>\n",
      "m_time:                            16858\n",
      "number_of_input_ports:             1\n",
      "number_of_output_ports:            0\n",
      "number_of_pieces:                  1\n",
      "number_of_time_steps:              1\n",
      "output_port:                       None\n",
      "output_string:                     ''\n",
      "progress:                          0.0\n",
      "progress_observer:                 None\n",
      "progress_scale:                    1.0\n",
      "progress_shift:                    0.0\n",
      "progress_text:                     None\n",
      "reference_count:                   2\n",
      "release_data_flag:                 0\n",
      "release_data_flag_:                0\n",
      "total_number_of_input_connections: 1\n",
      "update_ghost_level:                0\n",
      "update_number_of_pieces:           1\n",
      "write_extent:                      array([ 0, -1,  0, -1,  0, -1])\n",
      "write_piece:                       -1\n",
      "write_to_output_string:            0\n",
      "write_to_output_string_:           0\n"
     ]
    },
    {
     "data": {
      "text/plain": [
       "1"
      ]
     },
     "execution_count": 12,
     "metadata": {},
     "output_type": "execute_result"
    }
   ],
   "source": [
    "writer = tvtk.XMLImageDataWriter()\n",
    "writer.file_name = '/Users/baart_f/data/gtsm/test.vti'\n",
    "\n",
    "configure_input(writer, resample)\n",
    "writer.print_traits()\n",
    "writer.write()"
   ]
  },
  {
   "cell_type": "code",
   "execution_count": null,
   "metadata": {},
   "outputs": [],
   "source": []
  },
  {
   "cell_type": "code",
   "execution_count": null,
   "metadata": {},
   "outputs": [],
   "source": []
  }
 ],
 "metadata": {
  "kernelspec": {
   "display_name": "Python 3",
   "language": "python",
   "name": "python3"
  },
  "language_info": {
   "codemirror_mode": {
    "name": "ipython",
    "version": 3
   },
   "file_extension": ".py",
   "mimetype": "text/x-python",
   "name": "python",
   "nbconvert_exporter": "python",
   "pygments_lexer": "ipython3",
   "version": "3.8.8"
  }
 },
 "nbformat": 4,
 "nbformat_minor": 4
}
