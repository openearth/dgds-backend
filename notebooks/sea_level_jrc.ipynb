{
 "cells": [
  {
   "cell_type": "code",
   "execution_count": 1,
   "id": "7bb8d785",
   "metadata": {},
   "outputs": [],
   "source": [
    "import geojson\n",
    "import netCDF4 as nc\n",
    "import os\n",
    "import numpy as np"
   ]
  },
  {
   "cell_type": "code",
   "execution_count": 2,
   "id": "4926ca6f",
   "metadata": {},
   "outputs": [],
   "source": [
    "folder = r'p:\\11205479-coclico\\data\\03_sea_level_jrc'\n",
    "#dataset = 'CoastAlRisk_Europe_ESL_RCP45.nc'\n",
    "#dataset = 'CoastAlRisk_Europe_ESL_RCP85.nc'\n",
    "dataset = 'CoastAlRisk_Europe_ESL_Historical.nc'"
   ]
  },
  {
   "cell_type": "code",
   "execution_count": 3,
   "id": "0d29aaa5",
   "metadata": {},
   "outputs": [
    {
     "data": {
      "text/plain": [
       "<class 'netCDF4._netCDF4.Dataset'>\n",
       "root group (NETCDF3_64BIT_OFFSET data model, file format NETCDF3):\n",
       "    title: Extreme Sea Levels\n",
       "    Institution: Joint European Research Center, Directorate for Space, Security and Migration, Via Enrico Fermi 2749, I-21027-Ispra\n",
       "    Project Name: Prototype of a first Global Integrated Coastal Impact-based Flood Alert and Risk Assessment Tool\n",
       "    Project Acronym: CoastAlRisk\n",
       "    reference:  Vousdoukas MI., Mentaschi L., Voukouvalas E., Verlaan M., Feyen L. (2017). Extreme sea levels on the rise along Europe's coasts. Earth's Future. doi:10.1002/2016EF000505 \n",
       "    email: michail.vousdoukas@ec.europa.eu\n",
       "    version: 1.2\n",
       "    terms_for_use: European Union, 1995-2015.\n",
       "Reuse is authorised, provided the source is acknowledged. The reuse policy of the European Commission is implemented by a Decision of 12 December 2011.\n",
       "    disclaimer: Unless the following would not be permitted or valid under applicable law, the following applies to the data/information provided by the JRC:\n",
       "\n",
       "1. The JRC data are provided \"as is\" and \"as available\" without warranty of any kind, either express or implied, including, but not limited to, any implied warranty against infringement of third parties' property rights, or merchantability, integration, absence of latent or other defects, satisfactory quality and fitness for a particular purpose. The JRC data do not constitute professional or legal advice (if you need specific advice, you should always consult a suitably qualified professional).\n",
       "2. The JRC has no obligation to provide technical support or remedies for the data. The JRC does not represent or warrant that the data will be error free or uninterrupted, or that all non-conformities can or will be corrected, or that any data are accurate or complete, or that they are of a satisfactory technical or scientific quality.\n",
       "3. The JRC or as the case may be the European Commission shall not be held liable for any direct or indirect, incidental, consequential or other damages, including but not limited to the loss of data, loss of profits, or any other financial loss arising from the use of the JRC data, or inability to use them, even if the JRC is notified of the possibility of such damages.\n",
       "    dimensions(sizes): npoints(11014), nrp(8), nens(3)\n",
       "    variables(dimensions): float64 longitude(npoints), float64 latitude(npoints), float64 esl(npoints, nrp, nens), float64 eewl(npoints, nrp, nens), float32 rp(nrp), float32 ensmbl(nens)\n",
       "    groups: "
      ]
     },
     "execution_count": 3,
     "metadata": {},
     "output_type": "execute_result"
    }
   ],
   "source": [
    "ds = nc.Dataset(os.path.join(folder, dataset))\n",
    "ds"
   ]
  },
  {
   "cell_type": "code",
   "execution_count": 4,
   "id": "981066a8",
   "metadata": {},
   "outputs": [
    {
     "name": "stdout",
     "output_type": "stream",
     "text": [
      "5.0 0.4650539656031104 11.498925673926207\n",
      "10.0 0.48766543080387137 11.634988892726845\n",
      "20.0 0.5080505881690962 11.7618644273287\n",
      "50.0 0.5322279771503171 11.91668998439283\n",
      "100.0 0.548861282091625 12.024880099388861\n",
      "200.0 0.5644194160947287 12.12601905899922\n",
      "500.0 0.5838590944770807 12.24978115303037\n",
      "1000.0 0.5981188276383687 12.336494467645258\n"
     ]
    }
   ],
   "source": [
    "# get minima and maxima for the colormap boundaries\n",
    "rp = ds['rp'][:].filled()\n",
    "\n",
    "for idx, i in enumerate(rp):\n",
    "    print(i, min(ds['esl'][:,idx,1].filled().flatten()), max(ds['esl'][:,idx,1].filled().flatten()))"
   ]
  },
  {
   "cell_type": "code",
   "execution_count": 5,
   "id": "fe4a83aa",
   "metadata": {},
   "outputs": [],
   "source": [
    "# write data to file \n",
    "rp = ds['rp'][:].filled()\n",
    "\n",
    "features = []\n",
    "for j, (lon, lat) in enumerate(zip(ds['longitude'][:], ds['latitude'][:])):\n",
    "    point = geojson.Point((float(lon), float(lat)))\n",
    "    feature = geojson.Feature(geometry=point)\n",
    "    feature['properties']['locationId'] = j\n",
    "    feature['properties']['esl'] = np.array2string(ds['esl'][j][:,1].filled(), max_line_width=np.inf)\n",
    "    feature['properties']['rp'] = str(rp)\n",
    "    features.append(feature) \n",
    "\n",
    "# store the features\n",
    "collection = geojson.FeatureCollection(features)\n",
    "with open(os.path.join(folder, 'platform', r'EU_ESL_JRC_Hist_RP.geojson'), 'w') as f:\n",
    "    geojson.dump(collection, f)"
   ]
  },
  {
   "cell_type": "code",
   "execution_count": 6,
   "id": "9dd337f9",
   "metadata": {},
   "outputs": [
    {
     "data": {
      "text/plain": [
       "{\"geometry\": {\"coordinates\": [-8.991017, 37.030349], \"type\": \"Point\"}, \"properties\": {\"esl\": \"[3.30205426 3.41486462 3.52046817 3.64998335 3.74099187 3.82651434 3.93185498 4.00618858]\", \"locationId\": 0, \"rp\": \"[   5.   10.   20.   50.  100.  200.  500. 1000.]\"}, \"type\": \"Feature\"}"
      ]
     },
     "execution_count": 6,
     "metadata": {},
     "output_type": "execute_result"
    }
   ],
   "source": [
    "# check geojson content\n",
    "with open(os.path.join(folder, 'platform', 'EU_ESL_JRC_Hist_RP.geojson')) as f:\n",
    "    check = geojson.load(f)\n",
    "    \n",
    "check.keys()\n",
    "check['features'][0]"
   ]
  },
  {
   "cell_type": "code",
   "execution_count": null,
   "id": "39c90a6f",
   "metadata": {},
   "outputs": [],
   "source": []
  }
 ],
 "metadata": {
  "kernelspec": {
   "display_name": "Python 3 (ipykernel)",
   "language": "python",
   "name": "python3"
  },
  "language_info": {
   "codemirror_mode": {
    "name": "ipython",
    "version": 3
   },
   "file_extension": ".py",
   "mimetype": "text/x-python",
   "name": "python",
   "nbconvert_exporter": "python",
   "pygments_lexer": "ipython3",
   "version": "3.8.12"
  }
 },
 "nbformat": 4,
 "nbformat_minor": 5
}
