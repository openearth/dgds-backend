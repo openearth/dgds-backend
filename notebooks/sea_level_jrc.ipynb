{
 "cells": [
  {
   "cell_type": "code",
   "execution_count": 1,
   "id": "7bb8d785",
   "metadata": {},
   "outputs": [],
   "source": [
    "import geojson\n",
    "import netCDF4 as nc\n",
    "import os\n",
    "import numpy as np\n",
    "import xarray\n",
    "import numpy.ma as ma"
   ]
  },
  {
   "cell_type": "code",
   "execution_count": 2,
   "id": "4926ca6f",
   "metadata": {},
   "outputs": [],
   "source": [
    "folder = r'p:\\11205479-coclico\\data\\03_sea_level_jrc'\n",
    "dataset2 = 'CoastAlRisk_Europe_ESL_RCP45.nc'\n",
    "dataset3 = 'CoastAlRisk_Europe_ESL_RCP85.nc'\n",
    "dataset = 'CoastAlRisk_Europe_ESL_Historical.nc'"
   ]
  },
  {
   "cell_type": "code",
   "execution_count": 3,
   "id": "2bf66627",
   "metadata": {},
   "outputs": [],
   "source": [
    "ds = nc.Dataset(os.path.join(folder, dataset))\n",
    "#ds\n",
    "ds2 = nc.Dataset(os.path.join(folder, dataset2))\n",
    "#ds2\n",
    "ds2 = nc.Dataset(os.path.join(folder, dataset3))\n",
    "#ds3"
   ]
  },
  {
   "cell_type": "code",
   "execution_count": 4,
   "id": "a537dfad",
   "metadata": {},
   "outputs": [
    {
     "name": "stderr",
     "output_type": "stream",
     "text": [
      "C:\\Users\\kras\\Anaconda3\\envs\\SDB_env\\lib\\site-packages\\ipykernel_launcher.py:6: DeprecationWarning: tostring() is deprecated. Use tobytes() instead.\n",
      "  \n",
      "C:\\Users\\kras\\Anaconda3\\envs\\SDB_env\\lib\\site-packages\\ipykernel_launcher.py:24: DeprecationWarning: tostring() is deprecated. Use tobytes() instead.\n",
      "C:\\Users\\kras\\Anaconda3\\envs\\SDB_env\\lib\\site-packages\\ipykernel_launcher.py:25: DeprecationWarning: `np.bool` is a deprecated alias for the builtin `bool`. To silence this warning, use `bool` by itself. Doing this will not modify any behavior and is safe. If you specifically wanted the numpy scalar type, use `np.bool_` here.\n",
      "Deprecated in NumPy 1.20; for more details and guidance: https://numpy.org/devdocs/release/1.20.0-notes.html#deprecations\n",
      "C:\\Users\\kras\\Anaconda3\\envs\\SDB_env\\lib\\site-packages\\ipykernel_launcher.py:20: DeprecationWarning: tostring() is deprecated. Use tobytes() instead.\n",
      "C:\\Users\\kras\\Anaconda3\\envs\\SDB_env\\lib\\site-packages\\ipykernel_launcher.py:21: DeprecationWarning: `np.bool` is a deprecated alias for the builtin `bool`. To silence this warning, use `bool` by itself. Doing this will not modify any behavior and is safe. If you specifically wanted the numpy scalar type, use `np.bool_` here.\n",
      "Deprecated in NumPy 1.20; for more details and guidance: https://numpy.org/devdocs/release/1.20.0-notes.html#deprecations\n"
     ]
    }
   ],
   "source": [
    "# reshaping the historical dataset to merge into the RCP45 and RCP85 one\n",
    "dataset_new = 'CoastAlRisk_Europe_ESL_Historical_new.nc'\n",
    "ds_new = nc.Dataset(os.path.join(folder, dataset_new), 'w')\n",
    "\n",
    "# copy global attributes all at once via dictionary\n",
    "ds_new.setncatts(ds.__dict__)\n",
    "\n",
    "# copy dimensions\n",
    "for name, dimension in ds.dimensions.items():\n",
    "    ds_new.createDimension(name, (len(dimension) if not dimension.isunlimited() else None))\n",
    "\n",
    "# adding a new dimension\n",
    "ds_new.createDimension('nsdec', (1)) # only for 1995\n",
    "\n",
    "# copy all file data and extend for 2 instances\n",
    "extended_var = ['esl', 'eewl']\n",
    "for name, variable in ds.variables.items():\n",
    "    if name in extended_var:\n",
    "        ds_new.createVariable(name, variable.datatype, ('npoints','nrp','nens','nsdec'))\n",
    "        ds_new[name].setncatts(ds[name].__dict__) # copy variable attributes all at once via dictionary\n",
    "        ds_new[name][:] = np.expand_dims(ds[name][:], axis=3) # data, extended\n",
    "    else:\n",
    "        ds_new.createVariable(name, variable.datatype, variable.dimensions)\n",
    "        ds_new[name].setncatts(ds[name].__dict__) # copy variable attributes all at once via dictionary\n",
    "        ds_new[name][:] = ds[name][:] # data\n",
    "        \n",
    "# adding a new variables\n",
    "ds_new.createVariable('decades', 'float32', ('nsdec',))\n",
    "ds_new['decades'][:] = ma.masked_array(int(1995), mask=[0], dtype='float32')"
   ]
  },
  {
   "cell_type": "code",
   "execution_count": 5,
   "id": "19bb10cf",
   "metadata": {},
   "outputs": [],
   "source": [
    "# combining the datasets\n",
    "ens_list_45 = [xarray.open_mfdataset(os.path.join(folder, dataset.split('.')[0]+'_new.nc')),\n",
    "            xarray.open_mfdataset(os.path.join(folder, dataset2))]\n",
    "ds_comb_45 = xarray.concat(ens_list_45, data_vars='different', dim='nsdec') # only concat files that are different\n",
    "\n",
    "ens_list_85 = [xarray.open_mfdataset(os.path.join(folder, dataset.split('.')[0]+'_new.nc')),\n",
    "            xarray.open_mfdataset(os.path.join(folder, dataset3))]\n",
    "ds_comb_85 = xarray.concat(ens_list_85, data_vars='different', dim='nsdec') # only concat files that are different"
   ]
  },
  {
   "cell_type": "code",
   "execution_count": 6,
   "id": "d7767b56",
   "metadata": {},
   "outputs": [],
   "source": [
    "# saving the new datasets\n",
    "ds_comb_45.to_netcdf(os.path.join(folder, dataset2.split('.')[0]+'_new.nc')) # Export netcdf file\n",
    "ds_comb_85.to_netcdf(os.path.join(folder, dataset3.split('.')[0]+'_new.nc')) # Export netcdf file"
   ]
  },
  {
   "cell_type": "code",
   "execution_count": 7,
   "id": "3b83a207",
   "metadata": {},
   "outputs": [],
   "source": [
    "# loading new dataset\n",
    "ds2 = nc.Dataset(os.path.join(folder, dataset2.split('.')[0]+'_new.nc'))\n",
    "ds3 = nc.Dataset(os.path.join(folder, dataset3.split('.')[0]+'_new.nc'))"
   ]
  },
  {
   "cell_type": "code",
   "execution_count": 13,
   "id": "981066a8",
   "metadata": {},
   "outputs": [
    {
     "name": "stderr",
     "output_type": "stream",
     "text": [
      "C:\\Users\\kras\\Anaconda3\\envs\\SDB_env\\lib\\site-packages\\ipykernel_launcher.py:2: DeprecationWarning: `np.bool` is a deprecated alias for the builtin `bool`. To silence this warning, use `bool` by itself. Doing this will not modify any behavior and is safe. If you specifically wanted the numpy scalar type, use `np.bool_` here.\n",
      "Deprecated in NumPy 1.20; for more details and guidance: https://numpy.org/devdocs/release/1.20.0-notes.html#deprecations\n",
      "  \n",
      "C:\\Users\\kras\\Anaconda3\\envs\\SDB_env\\lib\\site-packages\\ipykernel_launcher.py:5: DeprecationWarning: `np.bool` is a deprecated alias for the builtin `bool`. To silence this warning, use `bool` by itself. Doing this will not modify any behavior and is safe. If you specifically wanted the numpy scalar type, use `np.bool_` here.\n",
      "Deprecated in NumPy 1.20; for more details and guidance: https://numpy.org/devdocs/release/1.20.0-notes.html#deprecations\n",
      "  \"\"\"\n"
     ]
    },
    {
     "name": "stdout",
     "output_type": "stream",
     "text": [
      "5.0 0.4650539656031104 11.722749954526657\n",
      "10.0 0.48766543080387137 11.85304010501605\n",
      "20.0 0.5080505881690962 11.975193777702065\n",
      "50.0 0.5322279771503171 12.129956660321566\n",
      "100.0 0.548861282091625 12.243735736021819\n",
      "200.0 0.5644194160947287 12.351218512870865\n",
      "500.0 0.5838590944770807 12.484405731554357\n",
      "1000.0 0.5981188276383687 12.578953862112536\n"
     ]
    }
   ],
   "source": [
    "# get minima and maxima for the colormap boundaries\n",
    "rp = ds2['rp'][:].filled()\n",
    "\n",
    "for idx, i in enumerate(rp):\n",
    "    print(i, min(ds3['esl'][:,idx,1].filled().flatten()), max(ds3['esl'][:,idx,1].filled().flatten()))"
   ]
  },
  {
   "cell_type": "code",
   "execution_count": 5,
   "id": "fe4a83aa",
   "metadata": {},
   "outputs": [],
   "source": [
    "# write data to file \n",
    "rp = ds['rp'][:].filled()\n",
    "\n",
    "features = []\n",
    "for j, (lon, lat) in enumerate(zip(ds['longitude'][:], ds['latitude'][:])):\n",
    "    point = geojson.Point((float(lon), float(lat)))\n",
    "    feature = geojson.Feature(geometry=point)\n",
    "    feature['properties']['locationId'] = j\n",
    "    feature['properties']['esl'] = np.array2string(ds['esl'][j][:,1].filled(), max_line_width=np.inf)\n",
    "    feature['properties']['rp'] = str(rp)\n",
    "    features.append(feature) \n",
    "\n",
    "# store the features\n",
    "collection = geojson.FeatureCollection(features)\n",
    "with open(os.path.join(folder, 'platform', r'EU_ESL_JRC_Hist_RP.geojson'), 'w') as f:\n",
    "    geojson.dump(collection, f)"
   ]
  },
  {
   "cell_type": "code",
   "execution_count": 6,
   "id": "9dd337f9",
   "metadata": {},
   "outputs": [
    {
     "data": {
      "text/plain": [
       "{\"geometry\": {\"coordinates\": [-8.991017, 37.030349], \"type\": \"Point\"}, \"properties\": {\"esl\": \"[3.30205426 3.41486462 3.52046817 3.64998335 3.74099187 3.82651434 3.93185498 4.00618858]\", \"locationId\": 0, \"rp\": \"[   5.   10.   20.   50.  100.  200.  500. 1000.]\"}, \"type\": \"Feature\"}"
      ]
     },
     "execution_count": 6,
     "metadata": {},
     "output_type": "execute_result"
    }
   ],
   "source": [
    "# check geojson content\n",
    "with open(os.path.join(folder, 'platform', 'EU_ESL_JRC_Hist_RP.geojson')) as f:\n",
    "    check = geojson.load(f)\n",
    "    \n",
    "check.keys()\n",
    "check['features'][0]"
   ]
  },
  {
   "cell_type": "code",
   "execution_count": null,
   "id": "39c90a6f",
   "metadata": {},
   "outputs": [],
   "source": []
  }
 ],
 "metadata": {
  "kernelspec": {
   "display_name": "Python 3 (ipykernel)",
   "language": "python",
   "name": "python3"
  },
  "language_info": {
   "codemirror_mode": {
    "name": "ipython",
    "version": 3
   },
   "file_extension": ".py",
   "mimetype": "text/x-python",
   "name": "python",
   "nbconvert_exporter": "python",
   "pygments_lexer": "ipython3",
   "version": "3.7.10"
  }
 },
 "nbformat": 4,
 "nbformat_minor": 5
}
