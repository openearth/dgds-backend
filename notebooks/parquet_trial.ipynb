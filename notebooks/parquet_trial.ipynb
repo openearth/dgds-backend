{
 "cells": [
  {
   "cell_type": "code",
   "execution_count": null,
   "id": "12b3f610",
   "metadata": {},
   "outputs": [],
   "source": [
    "# Optional; code formatter, installed as jupyter lab extension\n",
    "#%load_ext lab_black\n",
    "# Optional; code formatter, installed as jupyter notebook extension\n",
    "%load_ext nb_black\n",
    "\n",
    "# imports\n",
    "import geojson\n",
    "import netCDF4 as nc\n",
    "import os\n",
    "import pathlib\n",
    "import sys\n",
    "import platform\n",
    "import xarray as xr\n",
    "import pandas as pd\n",
    "import zarr\n",
    "import subprocess\n",
    "import warnings\n",
    "\n",
    "warnings.filterwarnings(\"ignore\")\n",
    "\n",
    "# make root directories importable by appending root to path\n",
    "cwd = pathlib.Path().resolve()\n",
    "sys.path.append(os.path.dirname(cwd))\n",
    "\n",
    "# OS independent path configurations\n",
    "if platform.system() == \"Windows\":\n",
    "    root = pathlib.Path(\"P:/\")\n",
    "else:  # linux or other\n",
    "    root = pathlib.Path(\"/p/\")\n",
    "# root = pathlib.Path().home().root\n",
    "coclico_data_dir = pathlib.Path(root, \"11205479-coclico\", \"data\")"
   ]
  },
  {
   "cell_type": "code",
   "execution_count": null,
   "id": "a2711a61",
   "metadata": {},
   "outputs": [],
   "source": [
    "# parquet trial (https://arrow.apache.org/docs/python/parquet.html)\n",
    "#import pyarrow.parquet as pq"
   ]
  },
  {
   "cell_type": "code",
   "execution_count": null,
   "id": "c037c782",
   "metadata": {},
   "outputs": [],
   "source": [
    "#folder = r\"p:\\11205479-coclico\\data\\01_storm_surge_jrc\"\n",
    "#dataset1 = \"CoastAlRisk_Europe_EESSL_Historical.nc\"\n",
    "#dataset2 = \"CoastAlRisk_Europe_EESSL_RCP45.nc\"\n",
    "#dataset3 = \"CoastAlRisk_Europe_EESSL_RCP85.nc\"\n",
    "\n",
    "ds_list = [ds1, ds2, ds3]\n",
    "ds_list_name = [dataset1, dataset2, dataset3]\n",
    "ds = ds1 # shotcut"
   ]
  },
  {
   "cell_type": "code",
   "execution_count": null,
   "id": "c08b8492",
   "metadata": {},
   "outputs": [],
   "source": [
    "# multiple data files\n",
    "#\n",
    "#rp = ds['RP'][:].filled()\n",
    "#\n",
    "#df = pd.DataFrame()\n",
    "#df['lon'] = ds['longitude'][:]\n",
    "#df['lat'] = ds['latitude'][:]\n",
    "#df['locationId'] = [i for i in range(len(ds['longitude'][:]))]\n",
    "#for j in range(len(rp)):   \n",
    "#    df['ssl_rp%s'%int(rp[j])] = ds['ssl'][:,j].filled()\n",
    "#    \n",
    "#df.to_parquet(os.path.join(folder, 'platform', r'EU_EESSL_JRC_Hist_RP.parquet'), compression='gzip')"
   ]
  },
  {
   "cell_type": "code",
   "execution_count": null,
   "id": "59ed75c7",
   "metadata": {},
   "outputs": [],
   "source": [
    "#fol_check = r'p:\\11205479-coclico\\data\\01_storm_surge_jrc\\platform'\n",
    "#file_check = r'EU_EESSL_JRC_Hist_RP.parquet'\n",
    "#check = pd.read_parquet(os.path.join(fol_check, file_check), engine='pyarrow')"
   ]
  },
  {
   "cell_type": "code",
   "execution_count": null,
   "id": "eaee962b",
   "metadata": {},
   "outputs": [],
   "source": [
    "#check.sample(frac=0.01)"
   ]
  }
 ],
 "metadata": {
  "kernelspec": {
   "display_name": "Python 3 (ipykernel)",
   "language": "python",
   "name": "python3"
  },
  "language_info": {
   "codemirror_mode": {
    "name": "ipython",
    "version": 3
   },
   "file_extension": ".py",
   "mimetype": "text/x-python",
   "name": "python",
   "nbconvert_exporter": "python",
   "pygments_lexer": "ipython3",
   "version": "3.8.12"
  }
 },
 "nbformat": 4,
 "nbformat_minor": 5
}
