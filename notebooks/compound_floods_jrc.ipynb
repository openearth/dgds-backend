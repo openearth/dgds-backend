{
 "cells": [
  {
   "cell_type": "code",
   "execution_count": 1,
   "id": "aa0f6094",
   "metadata": {},
   "outputs": [],
   "source": [
    "import geojson\n",
    "import netCDF4 as nc\n",
    "import os"
   ]
  },
  {
   "cell_type": "code",
   "execution_count": 2,
   "id": "bdeb07c4",
   "metadata": {},
   "outputs": [],
   "source": [
    "folder = r'p:\\11205479-coclico\\data\\08_compound_floods_jrc'\n",
    "dataset = 'Netcdf_Compound_Flood_Potential_Index_River.nc'"
   ]
  },
  {
   "cell_type": "code",
   "execution_count": 4,
   "id": "a76ea3d8",
   "metadata": {},
   "outputs": [
    {
     "data": {
      "text/plain": [
       "<class 'netCDF4._netCDF4.Dataset'>\n",
       "root group (NETCDF4_CLASSIC data model, file format HDF5):\n",
       "    name: Compound Flood Potential Index for coastal-river flood co-occurrence\n",
       "    description: Compound Flood Potential Index for coastal-river flood co-occurrence and its components: surge height, river discharge, return period, correlation, copula type\n",
       "    institution: Delft University of Technology & European Commission, Joint Research Centre\n",
       "    contact: d.paprotny@tudelft.nl\n",
       "    version: 1.0\n",
       "    citation: Paprotny, D., Vousdoukas, M. I., Morales N�poles, O., Jonkman, S. N., Feyen, L. 2018. Compound flood potential in Europe. Hydrology and Earth System Sciences, in preparation\n",
       "    grid: WGS-84\n",
       "    dimensions(sizes): id(620)\n",
       "    variables(dimensions): int32 id(id), float32 lat(id), float32 lon(id), float64 cfpi(id), float64 ss10(id), float64 dd10(id), float64 cor(id), float32 ret_per(id), int32 copula(id)\n",
       "    groups: "
      ]
     },
     "execution_count": 4,
     "metadata": {},
     "output_type": "execute_result"
    }
   ],
   "source": [
    "ds = nc.Dataset(os.path.join(folder, dataset))\n",
    "ds"
   ]
  },
  {
   "cell_type": "code",
   "execution_count": null,
   "id": "27a846dc",
   "metadata": {},
   "outputs": [],
   "source": []
  }
 ],
 "metadata": {
  "kernelspec": {
   "display_name": "Python 3 (ipykernel)",
   "language": "python",
   "name": "python3"
  },
  "language_info": {
   "codemirror_mode": {
    "name": "ipython",
    "version": 3
   },
   "file_extension": ".py",
   "mimetype": "text/x-python",
   "name": "python",
   "nbconvert_exporter": "python",
   "pygments_lexer": "ipython3",
   "version": "3.8.12"
  }
 },
 "nbformat": 4,
 "nbformat_minor": 5
}
