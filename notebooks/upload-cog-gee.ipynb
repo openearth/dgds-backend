{
 "cells": [
  {
   "cell_type": "markdown",
   "metadata": {},
   "source": [
    "# EE cloud optimized geotiff example\n",
    "This notebook shows an example of how to upload a cloud optimized geotiff to GEE and use it both as an asset and directly."
   ]
  },
  {
   "cell_type": "code",
   "execution_count": null,
   "metadata": {},
   "outputs": [],
   "source": [
    "import pathlib\n"
   ]
  },
  {
   "cell_type": "markdown",
   "metadata": {},
   "source": [
    "Here we use the gebco dataset as an example"
   ]
  },
  {
   "cell_type": "code",
   "execution_count": null,
   "metadata": {},
   "outputs": [],
   "source": [
    "path = pathlib.Path('/Users/baart_f/data/gebco')\n",
    "tiffs = list(path.glob('*.tif'))"
   ]
  },
  {
   "cell_type": "markdown",
   "metadata": {},
   "source": [
    "Here we convert the data to a cloud optimized geotiff with .co in the name."
   ]
  },
  {
   "cell_type": "code",
   "execution_count": null,
   "metadata": {},
   "outputs": [],
   "source": [
    "for f in tiffs:\n",
    "    # co  -> cloud optimized\n",
    "    new_name = f.with_name(f.stem + '.co').with_suffix('.tiff')\n",
    "    !rio cogeo create {f} {new_name}"
   ]
  },
  {
   "cell_type": "markdown",
   "metadata": {},
   "source": [
    "Now you have to upload the files that are created to a bucket. You can use gsutil for that. I did it by hand. "
   ]
  },
  {
   "cell_type": "code",
   "execution_count": null,
   "metadata": {},
   "outputs": [],
   "source": [
    "# upload data to bucket manually\n",
    "!ls /Users/baart_f/data/gebco/\n"
   ]
  },
  {
   "cell_type": "markdown",
   "metadata": {},
   "source": [
    "We need to login to the GEE. This requires a file with credentials."
   ]
  },
  {
   "cell_type": "code",
   "execution_count": null,
   "metadata": {},
   "outputs": [],
   "source": [
    "# This has details about the Earth Engine Python Authenticator client.\n",
    "from ee import oauth\n",
    "from google_auth_oauthlib.flow import Flow\n",
    "import json\n",
    "\n",
    "# Build the `client_secrets.json` file by borrowing the\n",
    "# Earth Engine python authenticator.\n",
    "client_secrets = {\n",
    "    'web': {\n",
    "        'client_id': oauth.CLIENT_ID,\n",
    "        'client_secret': oauth.CLIENT_SECRET,\n",
    "        'redirect_uris': [oauth.REDIRECT_URI],\n",
    "        'auth_uri': 'https://accounts.google.com/o/oauth2/auth',\n",
    "        'token_uri': 'https://accounts.google.com/o/oauth2/token'\n",
    "    }\n",
    "}\n",
    "\n",
    "# Write to a json file.\n",
    "client_secrets_file = 'client_secrets.json'\n",
    "with open(client_secrets_file, 'w') as f:\n",
    "  json.dump(client_secrets, f, indent=2)\n",
    "\n",
    "# Start the flow using the client_secrets.json file.\n",
    "flow = Flow.from_client_secrets_file(client_secrets_file,\n",
    "    scopes=oauth.SCOPES,\n",
    "    redirect_uri=oauth.REDIRECT_URI)\n",
    "\n",
    "# Get the authorization URL from the flow.\n",
    "auth_url, _ = flow.authorization_url(prompt='consent')\n",
    "\n",
    "# Print instructions to go to the authorization URL.\n",
    "oauth._display_auth_instructions_with_print(auth_url)\n",
    "print('\\n')\n",
    "\n",
    "# The user will get an authorization code.\n",
    "# This code is used to get the access token.\n",
    "code = input('Enter the authorization code: \\n')\n",
    "flow.fetch_token(code=code)\n",
    "\n",
    "# Get an authorized session from the flow.\n",
    "session = flow.authorized_session()"
   ]
  },
  {
   "cell_type": "markdown",
   "metadata": {},
   "source": [
    "We need a list of all the files that we want to process."
   ]
  },
  {
   "cell_type": "code",
   "execution_count": null,
   "metadata": {},
   "outputs": [],
   "source": [
    "names = [\n",
    "    \"gebco_2020_n0.0_s-90.0_w-90.0_e0.0.tiff\",\n",
    "    \"gebco_2020_n0.0_s-90.0_w-180.0_e-90.0.tiff\",\n",
    "    \"gebco_2020_n0.0_s-90.0_w0.0_e90.0.tiff\",\n",
    "    \"gebco_2020_n0.0_s-90.0_w90.0_e180.0.tiff\",\n",
    "    \"gebco_2020_n90.0_s0.0_w-90.0_e0.0.tiff\",\n",
    "    \"gebco_2020_n90.0_s0.0_w-180.0_e-90.0.tiff\",\n",
    "    \"gebco_2020_n90.0_s0.0_w0.0_e90.0.tiff\",\n",
    "    \"gebco_2020_n90.0_s0.0_w90.0_e180.0.tiff\"\n",
    "]\n",
    "\n",
    "name.rstrip('.tiff').replace('.', '_')"
   ]
  },
  {
   "cell_type": "markdown",
   "metadata": {},
   "source": [
    "This shows how to upload the assets. "
   ]
  },
  {
   "cell_type": "code",
   "execution_count": null,
   "metadata": {
    "scrolled": false
   },
   "outputs": [],
   "source": [
    "# Where Earth Engine assets are kept.\n",
    "project_folder = 'earthengine-legacy'\n",
    "# Your user folder name and new asset name.\n",
    "asset_id = 'users/fbaart/gebco/cog'\n",
    "\n",
    "\n",
    "for name in names:\n",
    "    # Request body as a dictionary.\n",
    "    request = {\n",
    "      'type': 'IMAGE',\n",
    "      'cloudStorageLocation': {\n",
    "        'uris': [f'gs://ee-cog-test/cog/{name}']\n",
    "      },\n",
    "      'properties': {\n",
    "        'source': 'https://github.com/openearth/dgds-backend'\n",
    "      },\n",
    "      'startTime': '2016-01-01T00:00:00.000000000Z',\n",
    "      'endTime': '2016-12-31T15:01:23.000000000Z',\n",
    "    }\n",
    "\n",
    "    from pprint import pprint\n",
    "    pprint(json.dumps(request))\n",
    "\n",
    "    ee_name = name.rstrip('.tiff').replace('.', '_')\n",
    "    \n",
    "    url = f'https://earthengine.googleapis.com/v1alpha/projects/{project_folder}/assets?assetId={asset_id}/{ee_name}'\n",
    "\n",
    "    response = session.post(\n",
    "      url = url,\n",
    "      data = json.dumps(request)\n",
    "    )\n",
    "\n",
    "    pprint(json.loads(response.content))"
   ]
  },
  {
   "cell_type": "markdown",
   "metadata": {},
   "source": [
    "This uploads them in the traditional way."
   ]
  },
  {
   "cell_type": "code",
   "execution_count": null,
   "metadata": {},
   "outputs": [],
   "source": [
    "names = [\n",
    "    \"gebco_2020_n0.0_s-90.0_w-90.0_e0.0.tif\",\n",
    "    \"gebco_2020_n0.0_s-90.0_w-180.0_e-90.0.tif\",\n",
    "    \"gebco_2020_n0.0_s-90.0_w0.0_e90.0.tif\",\n",
    "    \"gebco_2020_n0.0_s-90.0_w90.0_e180.0.tif\",\n",
    "    \"gebco_2020_n90.0_s0.0_w-90.0_e0.0.tif\",\n",
    "    \"gebco_2020_n90.0_s0.0_w-180.0_e-90.0.tif\",\n",
    "    \"gebco_2020_n90.0_s0.0_w0.0_e90.0.tif\",\n",
    "    \"gebco_2020_n90.0_s0.0_w90.0_e180.0.tif\"\n",
    "]\n",
    "\n",
    "for name in names:\n",
    "    asset_id = 'users/fbaart/gebco/gebco-native'\n",
    "    gs_name = f'gs://ee-cog-test/gebco/{name}'\n",
    "    ee_name = name.rstrip('.tiff').replace('.', '_')\n",
    "    !earthengine upload image --asset_id {asset_id}/{ee_name} {gs_name}"
   ]
  },
  {
   "cell_type": "markdown",
   "metadata": {},
   "source": [
    "The result is two assets gebco-native and gebco-cog. These can now be used for benchmarks."
   ]
  },
  {
   "cell_type": "code",
   "execution_count": null,
   "metadata": {},
   "outputs": [],
   "source": []
  }
 ],
 "metadata": {
  "kernelspec": {
   "display_name": "Python 3",
   "language": "python",
   "name": "python3"
  },
  "language_info": {
   "codemirror_mode": {
    "name": "ipython",
    "version": 3
   },
   "file_extension": ".py",
   "mimetype": "text/x-python",
   "name": "python",
   "nbconvert_exporter": "python",
   "pygments_lexer": "ipython3",
   "version": "3.8.8"
  }
 },
 "nbformat": 4,
 "nbformat_minor": 4
}
