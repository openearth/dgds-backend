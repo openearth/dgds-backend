{
 "cells": [
  {
   "attachments": {},
   "cell_type": "markdown",
   "metadata": {},
   "source": [
    "Read in the GeoJSON file"
   ]
  },
  {
   "cell_type": "code",
   "execution_count": null,
   "metadata": {},
   "outputs": [],
   "source": [
    "# Open the file\n",
    "with open('/Volumes/PROJECT/1000545-054-globalbeaches/04_Shoreline_Monitor_data_requests/Data_requests/SITO\\ SIDS/Merged_Shorelines/QA_ed/BOX_130_029_QAed.geojson', 'r') as file:\n",
    "    # Load the file content as a Python dictionary\n",
    "    data = json.load(file)\n",
    "\n",
    "# Access the features in the GeoJSON file\n",
    "features = data['features']\n",
    "\n",
    "# Loop through each feature\n",
    "for feature in features:\n",
    "    # Access properties of the feature\n",
    "    properties = feature['properties']\n",
    "    # Access the geometry of the feature\n",
    "    geometry = feature['geometry']\n",
    "    \n",
    "    # Do something with the properties and geometry\n",
    "    #print(properties)\n",
    "    #print(geometry)"
   ]
  }
 ],
 "metadata": {
  "kernelspec": {
   "display_name": "base",
   "language": "python",
   "name": "python3"
  },
  "language_info": {
   "codemirror_mode": {
    "name": "ipython",
    "version": 3
   },
   "file_extension": ".py",
   "mimetype": "text/x-python",
   "name": "python",
   "nbconvert_exporter": "python",
   "pygments_lexer": "ipython3",
   "version": "3.10.6"
  },
  "orig_nbformat": 4,
  "vscode": {
   "interpreter": {
    "hash": "818e5bce484e756bf0ea5f7e66fc713d54eb685dfedcdaadf9e081db2c088a13"
   }
  }
 },
 "nbformat": 4,
 "nbformat_minor": 2
}
