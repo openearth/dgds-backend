{
 "cells": [
  {
   "attachments": {},
   "cell_type": "markdown",
   "metadata": {},
   "source": [
    "Read in the GeoJSON file"
   ]
  },
  {
   "cell_type": "code",
   "execution_count": 4,
   "metadata": {},
   "outputs": [],
   "source": [
    "file = open('/Volumes/PROJECT/1000545-054-globalbeaches/04_Shoreline_Monitor_data_requests/Data_requests/SITO SIDS/Merged_Shorelines/QA_ed/boxes_combined_QAed.geojson')\n",
    "geojson = json.load(file)\n",
    "features = geojson.get('features')\n",
    "#print(len(features))\n"
   ]
  },
  {
   "attachments": {},
   "cell_type": "markdown",
   "metadata": {},
   "source": [
    "Get 'timing'"
   ]
  },
  {
   "cell_type": "code",
   "execution_count": 5,
   "metadata": {},
   "outputs": [
    {
     "name": "stdout",
     "output_type": "stream",
     "text": [
      "['2004-01' '2014-01' '2015-01' '2016-01' '2017-01' '2018-01' '2019-01'\n",
      " '2020-01' '2021-01']\n",
      "9\n"
     ]
    }
   ],
   "source": [
    "timing = []\n",
    "for i in range(0,len(features)):\n",
    "    timing.append(features[i].get('properties').get('timing'))\n",
    "print(np.unique(timing))\n",
    "print(len(np.unique(timing)))"
   ]
  },
  {
   "attachments": {},
   "cell_type": "markdown",
   "metadata": {},
   "source": [
    "get colour map hex codes"
   ]
  },
  {
   "cell_type": "code",
   "execution_count": 8,
   "metadata": {},
   "outputs": [
    {
     "name": "stdout",
     "output_type": "stream",
     "text": [
      "['#000004', '#1c0c43', '#4d0d6c', '#7c1d6d', '#a92e5e', '#d34743', '#f06f20', '#fca309', '#f5db4c']\n",
      "9\n"
     ]
    },
    {
     "data": {
      "image/png": "[encoded data removed]",
      "text/plain": [
       "<Figure size 640x480 with 1 Axes>"
      ]
     },
     "metadata": {},
     "output_type": "display_data"
    }
   ],
   "source": [
    "import matplotlib.pyplot as plt\n",
    "import matplotlib.colors as colors\n",
    "import numpy as np\n",
    "\n",
    "# Get the 'jet' color map\n",
    "cmap = plt.get_cmap('inferno')\n",
    "\n",
    "# Convert the color map to RGB values\n",
    "#rgba_vals = cmap(range(cmap.N))\n",
    "#rgba_vals = cmap(range(0,cmap.N,int(cmap.N/len(np.unique(timing)))))\n",
    "rgba_vals = cmap(range(0,cmap.N,int(np.ceil(cmap.N/len(np.unique(timing))))))\n",
    "rgb_vals = [colors.rgb2hex(x[:3]) for x in rgba_vals]\n",
    "\n",
    "print(rgb_vals)\n",
    "print(len(rgb_vals))\n",
    "\n",
    "# Convert the RGBA values to float representation\n",
    "float_vals = np.array([x[:3] for x in rgba_vals]) / 255.0\n",
    "\n",
    "# Create a color map image with the RGB values\n",
    "color_map = np.tile(float_vals, (10, 1))\n",
    "\n",
    "plt.imshow(color_map, aspect='auto')\n",
    "plt.axis('off')\n",
    "plt.show()"
   ]
  }
 ],
 "metadata": {
  "kernelspec": {
   "display_name": "base",
   "language": "python",
   "name": "python3"
  },
  "language_info": {
   "codemirror_mode": {
    "name": "ipython",
    "version": 3
   },
   "file_extension": ".py",
   "mimetype": "text/x-python",
   "name": "python",
   "nbconvert_exporter": "python",
   "pygments_lexer": "ipython3",
   "version": "3.10.6"
  },
  "orig_nbformat": 4,
  "vscode": {
   "interpreter": {
    "hash": "818e5bce484e756bf0ea5f7e66fc713d54eb685dfedcdaadf9e081db2c088a13"
   }
  }
 },
 "nbformat": 4,
 "nbformat_minor": 2
}
